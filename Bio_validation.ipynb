{
  "nbformat": 4,
  "nbformat_minor": 0,
  "metadata": {
    "colab": {
      "name": "Bio validation.ipynb",
      "provenance": [],
      "include_colab_link": true
    },
    "kernelspec": {
      "name": "python3",
      "display_name": "Python 3"
    }
  },
  "cells": [
    {
      "cell_type": "markdown",
      "metadata": {
        "id": "view-in-github",
        "colab_type": "text"
      },
      "source": [
        "<a href=\"https://colab.research.google.com/github/shehanshaman/fyp_short_sem/blob/master/Bio_validation.ipynb\" target=\"_parent\"><img src=\"https://colab.research.google.com/assets/colab-badge.svg\" alt=\"Open In Colab\"/></a>"
      ]
    },
    {
      "cell_type": "code",
      "metadata": {
        "id": "CP7kXZev2h5T",
        "colab_type": "code",
        "outputId": "27aa39e0-0133-4360-899e-1ef877e25ed7",
        "colab": {
          "base_uri": "https://localhost:8080/",
          "height": 121
        }
      },
      "source": [
        "from google.colab import drive\n",
        "drive.mount('/content/drive')"
      ],
      "execution_count": 1,
      "outputs": [
        {
          "output_type": "stream",
          "text": [
            "Go to this URL in a browser: https://accounts.google.com/o/oauth2/auth?client_id=947318989803-6bn6qk8qdgf4n4g3pfee6491hc0brc4i.apps.googleusercontent.com&redirect_uri=urn%3Aietf%3Awg%3Aoauth%3A2.0%3Aoob&scope=email%20https%3A%2F%2Fwww.googleapis.com%2Fauth%2Fdocs.test%20https%3A%2F%2Fwww.googleapis.com%2Fauth%2Fdrive%20https%3A%2F%2Fwww.googleapis.com%2Fauth%2Fdrive.photos.readonly%20https%3A%2F%2Fwww.googleapis.com%2Fauth%2Fpeopleapi.readonly&response_type=code\n",
            "\n",
            "Enter your authorization code:\n",
            "··········\n",
            "Mounted at /content/drive\n"
          ],
          "name": "stdout"
        }
      ]
    },
    {
      "cell_type": "code",
      "metadata": {
        "id": "bba-PxPU3qWt",
        "colab_type": "code",
        "colab": {}
      },
      "source": [
        "import numpy as np\n",
        "import pandas as pd"
      ],
      "execution_count": 0,
      "outputs": []
    },
    {
      "cell_type": "markdown",
      "metadata": {
        "id": "BmZ46WnwA6fv",
        "colab_type": "text"
      },
      "source": [
        "Blood Dataset"
      ]
    },
    {
      "cell_type": "code",
      "metadata": {
        "id": "3InsIlKz2yLg",
        "colab_type": "code",
        "colab": {}
      },
      "source": [
        "df_200 = pd.read_pickle(\"drive/My Drive/FYP/Found genes/blood_200.pkl\")\n",
        "df_50_FI = pd.read_pickle(\"drive/My Drive/FYP/Found genes/blood_50_FI.pkl\")\n",
        "df_50_PCA = pd.read_pickle(\"drive/My Drive/FYP/Found genes/blood_50_PCA.pkl\")\n",
        "df_50_RF = pd.read_pickle(\"drive/My Drive/FYP/Found genes/blood_50_RF.pkl\")"
      ],
      "execution_count": 0,
      "outputs": []
    },
    {
      "cell_type": "code",
      "metadata": {
        "id": "dlRnFABH_lR4",
        "colab_type": "code",
        "colab": {}
      },
      "source": [
        "df_200 = df_200.drop(df_200.index[len(df_200)-1])"
      ],
      "execution_count": 0,
      "outputs": []
    },
    {
      "cell_type": "code",
      "metadata": {
        "id": "tHdWPUHKDTTC",
        "colab_type": "code",
        "outputId": "9cbf912d-d666-473a-91e6-5aecdbfb81b2",
        "colab": {
          "base_uri": "https://localhost:8080/",
          "height": 121
        }
      },
      "source": [
        "df = pd.read_csv(\"drive/My Drive/FYP/dataset/ADRelatedGene.txt\", delimiter=\", \")\n",
        "df_AD = pd.DataFrame()\n",
        "df_AD[\"probes.Symbol\"] = df.columns\n",
        "\n",
        "df_AD[\"probes.Symbol\"] = df_AD['probes.Symbol'].str.replace(\" \",\"\")\n",
        "\n",
        "#df_AD.head()\n",
        "print(len(df_AD[\"probes.Symbol\"].values))\n",
        "df_AD[\"probes.Symbol\"].values"
      ],
      "execution_count": 5,
      "outputs": [
        {
          "output_type": "stream",
          "text": [
            "/usr/local/lib/python3.6/dist-packages/ipykernel_launcher.py:1: ParserWarning: Falling back to the 'python' engine because the 'c' engine does not support regex separators (separators > 1 char and different from '\\s+' are interpreted as regex); you can avoid this warning by specifying engine='python'.\n",
            "  \"\"\"Entry point for launching an IPython kernel.\n"
          ],
          "name": "stderr"
        },
        {
          "output_type": "stream",
          "text": [
            "8233\n"
          ],
          "name": "stdout"
        },
        {
          "output_type": "execute_result",
          "data": {
            "text/plain": [
              "array(['IL23R', 'IL26', 'IL27', ..., 'TGFBR1', 'ZNF365', 'VDAC2'],\n",
              "      dtype=object)"
            ]
          },
          "metadata": {
            "tags": []
          },
          "execution_count": 5
        }
      ]
    },
    {
      "cell_type": "code",
      "metadata": {
        "id": "O0AbrouFJBAm",
        "colab_type": "code",
        "colab": {}
      },
      "source": [
        "df = pd.read_csv(\"drive/My Drive/FYP/dataset/probes/illumina2.csv\", index_col=0)\n",
        "df.head()\n",
        "df_anno = pd.DataFrame()\n",
        "df_anno[\"probes.Symbol\"] = df[\"Symbol\"].unique()\n",
        "# df_anno.head()"
      ],
      "execution_count": 0,
      "outputs": []
    },
    {
      "cell_type": "code",
      "metadata": {
        "id": "EcSNg52sCVrn",
        "colab_type": "code",
        "outputId": "0d1e3e2d-a6fc-443f-eee8-a367441fac81",
        "colab": {
          "base_uri": "https://localhost:8080/",
          "height": 50
        }
      },
      "source": [
        "result = pd.merge(df_AD, df_anno, on='probes.Symbol', how='inner')\n",
        "arr = result[\"probes.Symbol\"].values\n",
        "print(len(arr))\n",
        "print(arr)"
      ],
      "execution_count": 7,
      "outputs": [
        {
          "output_type": "stream",
          "text": [
            "5786\n",
            "['IL23R' 'IL26' 'IL27' ... 'TGFBR1' 'ZNF365' 'VDAC2']\n"
          ],
          "name": "stdout"
        }
      ]
    },
    {
      "cell_type": "code",
      "metadata": {
        "id": "UU83bqx89ivL",
        "colab_type": "code",
        "outputId": "6b501018-83ba-4b73-8a86-ca673907742c",
        "colab": {
          "base_uri": "https://localhost:8080/",
          "height": 52
        }
      },
      "source": [
        "result2 = pd.merge(result, df_50_FI, on='probes.Symbol', how='inner')\n",
        "arr = result2[\"probes.Symbol\"].values\n",
        "print(len(arr))\n",
        "print(arr)"
      ],
      "execution_count": 0,
      "outputs": [
        {
          "output_type": "stream",
          "text": [
            "6\n",
            "['LDHB' 'ITGAM' 'COX7C' 'CMTM2' 'SOD1' 'RPL31']\n"
          ],
          "name": "stdout"
        }
      ]
    },
    {
      "cell_type": "code",
      "metadata": {
        "id": "cyT-zVgDRr3Y",
        "colab_type": "code",
        "outputId": "67d2ec4b-7b96-47a6-aa8a-f05e9da9a57c",
        "colab": {
          "base_uri": "https://localhost:8080/",
          "height": 52
        }
      },
      "source": [
        "result3 = pd.merge(result2, df_50_RF, on='probes.Symbol', how='inner')\n",
        "arr = result3[\"probes.Symbol\"].values\n",
        "print(len(arr))\n",
        "print(arr)"
      ],
      "execution_count": 0,
      "outputs": [
        {
          "output_type": "stream",
          "text": [
            "2\n",
            "['LDHB' 'CMTM2']\n"
          ],
          "name": "stdout"
        }
      ]
    },
    {
      "cell_type": "markdown",
      "metadata": {
        "id": "fBveErBpA_qt",
        "colab_type": "text"
      },
      "source": [
        "Brain Dataset"
      ]
    },
    {
      "cell_type": "code",
      "metadata": {
        "id": "NfeBNwT5B4GV",
        "colab_type": "code",
        "colab": {}
      },
      "source": [
        "df_200_brain = pd.read_pickle(\"drive/My Drive/FYP/Found genes/brain_200_.pkl\")\n",
        "df_50_FI_brain = pd.read_pickle(\"drive/My Drive/FYP/Found genes/brain_50_FI.pkl\")\n",
        "df_50_PCA_brain = pd.read_pickle(\"drive/My Drive/FYP/Found genes/brain_50_PCA.pkl\")\n",
        "df_50_RF_brain = pd.read_pickle(\"drive/My Drive/FYP/Found genes/brain_50_RF.pkl\")\n",
        "\n",
        "df_200_brain = df_200_brain.drop(df_200_brain.index[len(df_200_brain)-1])"
      ],
      "execution_count": 0,
      "outputs": []
    },
    {
      "cell_type": "code",
      "metadata": {
        "id": "WdRjujf9IPjj",
        "colab_type": "code",
        "colab": {}
      },
      "source": [
        "df_200_brain.rename(columns  = {\"Symbol\": \"probes.Symbol\"}, \n",
        "                                 inplace = True) \n",
        "df_50_FI_brain.rename(columns  = {\"Symbol\": \"probes.Symbol\"}, \n",
        "                                 inplace = True) \n",
        "df_50_PCA_brain.rename(columns  = {\"Symbol\": \"probes.Symbol\"}, \n",
        "                                 inplace = True) \n",
        "df_50_RF_brain.rename(columns  = {\"Symbol\": \"probes.Symbol\"}, \n",
        "                                 inplace = True) "
      ],
      "execution_count": 0,
      "outputs": []
    },
    {
      "cell_type": "code",
      "metadata": {
        "id": "ojdahwSaDwvY",
        "colab_type": "code",
        "outputId": "f9ac12db-38bf-4365-8e42-aa3baca2b552",
        "colab": {
          "base_uri": "https://localhost:8080/",
          "height": 101
        }
      },
      "source": [
        "result = pd.merge(df_50_RF_brain, df_50_FI_brain, on='probes.Symbol', how='inner')\n",
        "arr = result[\"probes.Symbol\"].values\n",
        "print(len(arr))\n",
        "print(arr)"
      ],
      "execution_count": 50,
      "outputs": [
        {
          "output_type": "stream",
          "text": [
            "28\n",
            "['NEAT1' 'MIR612' 'PCYOX1L' 'CTD-3092A11.2' 'FIBP' 'MLLT11' 'GNG3'\n",
            " 'CKMT1A' 'NIT2' 'MAFF' 'MGC12488' 'LDHA' 'LOC202181' 'MT1M' 'ATP6V1G2'\n",
            " 'TUBB4B' 'AK090844' 'PRO1804' 'MKKS' 'GFAP' 'RGS7' 'PRR34-AS1'\n",
            " 'RP11-271C24.3' 'GPI' 'DDIT4' 'SLC39A12' 'YAP1' 'AC004951.6']\n"
          ],
          "name": "stdout"
        }
      ]
    },
    {
      "cell_type": "code",
      "metadata": {
        "id": "Iw5nOv6GsOnd",
        "colab_type": "code",
        "colab": {}
      },
      "source": [
        "b = df_50_RF_brain['probes.Symbol'].values"
      ],
      "execution_count": 0,
      "outputs": []
    },
    {
      "cell_type": "code",
      "metadata": {
        "id": "BmQnwtx9o6uY",
        "colab_type": "code",
        "colab": {
          "base_uri": "https://localhost:8080/",
          "height": 34
        },
        "outputId": "e2324bde-f577-49bf-b0bc-db49adfe5a97"
      },
      "source": [
        "b = c\n",
        "c= [ x for x in b if not x in arr ] \n",
        "print(len(c))"
      ],
      "execution_count": 51,
      "outputs": [
        {
          "output_type": "stream",
          "text": [
            "18\n"
          ],
          "name": "stdout"
        }
      ]
    },
    {
      "cell_type": "code",
      "metadata": {
        "id": "mIFOeqWFsUat",
        "colab_type": "code",
        "colab": {
          "base_uri": "https://localhost:8080/",
          "height": 54
        },
        "outputId": "10837655-2050-4e3c-8b61-7cfab0addff0"
      },
      "source": [
        "print(c)"
      ],
      "execution_count": 52,
      "outputs": [
        {
          "output_type": "stream",
          "text": [
            "['SLC12A7', 'CKMT1B', 'ATP6V1E1', 'ATP5B', 'LOC100272216', 'REEP1', 'CHRM1', 'COPG2IT1', 'TUBB3', 'PSMB3', 'MIF', 'CDK5', 'IMMT', 'PSMA5', 'PLSCR4', 'LRP4', 'BSCL2', 'ATP5C1']\n"
          ],
          "name": "stdout"
        }
      ]
    },
    {
      "cell_type": "code",
      "metadata": {
        "id": "Av9QNLgqGcz1",
        "colab_type": "code",
        "outputId": "a91e636e-cbed-4cb9-ada5-9b972488da92",
        "colab": {
          "base_uri": "https://localhost:8080/",
          "height": 50
        }
      },
      "source": [
        "result2 = pd.merge(result, df_50_PCA_brain, on='probes.Symbol', how='inner')\n",
        "arr = result2[\"probes.Symbol\"].values\n",
        "print(len(arr))\n",
        "print(arr)"
      ],
      "execution_count": 0,
      "outputs": [
        {
          "output_type": "stream",
          "text": [
            "3\n",
            "['CHGB' 'SLC39A12' 'PCSK1']\n"
          ],
          "name": "stdout"
        }
      ]
    },
    {
      "cell_type": "code",
      "metadata": {
        "id": "ElWbfnbvM272",
        "colab_type": "code",
        "outputId": "d67a0553-24dc-4bd6-e91e-d8008f9cb0e6",
        "colab": {
          "base_uri": "https://localhost:8080/",
          "height": 50
        }
      },
      "source": [
        "result3 = pd.merge(result2, df_50_RF_brain, on='probes.Symbol', how='inner')\n",
        "arr = result3[\"probes.Symbol\"].values\n",
        "print(len(arr))\n",
        "print(arr)"
      ],
      "execution_count": 0,
      "outputs": [
        {
          "output_type": "stream",
          "text": [
            "1\n",
            "['SLC39A12']\n"
          ],
          "name": "stdout"
        }
      ]
    },
    {
      "cell_type": "markdown",
      "metadata": {
        "id": "jl9Jq0MXN0v5",
        "colab_type": "text"
      },
      "source": [
        "Blood and brain overlapping"
      ]
    },
    {
      "cell_type": "code",
      "metadata": {
        "id": "0Jdx0NsUN6zR",
        "colab_type": "code",
        "outputId": "ed04e678-a16b-480a-dbfb-8e85bd01addf",
        "colab": {
          "base_uri": "https://localhost:8080/",
          "height": 50
        }
      },
      "source": [
        "result = pd.merge(df_200, df_200_brain, on='probes.Symbol', how='inner')\n",
        "arr = result[\"probes.Symbol\"].values\n",
        "print(len(arr))\n",
        "print(arr)"
      ],
      "execution_count": 0,
      "outputs": [
        {
          "output_type": "stream",
          "text": [
            "4\n",
            "['ATP6V1E1' 'MDH1' 'COPS5' 'ATP5C1']\n"
          ],
          "name": "stdout"
        }
      ]
    },
    {
      "cell_type": "code",
      "metadata": {
        "id": "BgC9txQ0OsCJ",
        "colab_type": "code",
        "outputId": "931b9797-939d-463d-9cf1-7682c546fe61",
        "colab": {
          "base_uri": "https://localhost:8080/",
          "height": 50
        }
      },
      "source": [
        "result2 = pd.merge(result, df_AD, on='probes.Symbol', how='inner')\n",
        "arr = result2[\"probes.Symbol\"].values\n",
        "print(len(arr))\n",
        "print(arr)"
      ],
      "execution_count": 0,
      "outputs": [
        {
          "output_type": "stream",
          "text": [
            "3\n",
            "['ATP6V1E1' 'MDH1' 'COPS5']\n"
          ],
          "name": "stdout"
        }
      ]
    },
    {
      "cell_type": "markdown",
      "metadata": {
        "id": "oqGLD_bFb2Xc",
        "colab_type": "text"
      },
      "source": [
        "Feature selected from corellation"
      ]
    },
    {
      "cell_type": "code",
      "metadata": {
        "id": "3CuzExDJb5mU",
        "colab_type": "code",
        "colab": {}
      },
      "source": [
        "df_corr_26 = pd.read_pickle(\"drive/My Drive/FYP/Found genes/brain_corr_26.pkl\")\n",
        "df_corr_44 = pd.read_pickle(\"drive/My Drive/FYP/Found genes/brain_corr_44.pkl\")\n",
        "df_corr_179 = pd.read_pickle(\"drive/My Drive/FYP/Found genes/brain_corr_179.pkl\")"
      ],
      "execution_count": 0,
      "outputs": []
    },
    {
      "cell_type": "code",
      "metadata": {
        "id": "iLGT7HNRcqR6",
        "colab_type": "code",
        "colab": {}
      },
      "source": [
        "df_corr_26.rename(columns  = {\"Symbol\": \"probes.Symbol\"}, \n",
        "                                 inplace = True) \n",
        "df_corr_44.rename(columns  = {\"Symbol\": \"probes.Symbol\"}, \n",
        "                                 inplace = True) \n",
        "df_corr_179.rename(columns  = {\"Symbol\": \"probes.Symbol\"}, \n",
        "                                 inplace = True) "
      ],
      "execution_count": 0,
      "outputs": []
    },
    {
      "cell_type": "code",
      "metadata": {
        "id": "wmsOlTQ7cXMq",
        "colab_type": "code",
        "colab": {
          "base_uri": "https://localhost:8080/",
          "height": 84
        },
        "outputId": "ed746aab-cc19-4e2b-94ad-baf2e591441a"
      },
      "source": [
        "result = pd.merge(df_50_PCA_brain, df_corr_26, on='probes.Symbol', how='inner')\n",
        "arr = result[\"probes.Symbol\"].values\n",
        "print(len(arr))\n",
        "print(arr)"
      ],
      "execution_count": 98,
      "outputs": [
        {
          "output_type": "stream",
          "text": [
            "17\n",
            "['SST' 'CHGB' 'STAT4' 'AC004951.6' 'LOC101929787' 'SLC39A12' 'JPX'\n",
            " 'TMEM200A' 'SPHKAP' 'CTD-3092A11.2' 'P2RY14' 'RP11-271C24.3' 'PVALB'\n",
            " 'LOC101060510' 'PCP4' 'BCAS1' 'APLNR']\n"
          ],
          "name": "stdout"
        }
      ]
    },
    {
      "cell_type": "code",
      "metadata": {
        "id": "jerBcHwoYoOB",
        "colab_type": "code",
        "colab": {
          "base_uri": "https://localhost:8080/",
          "height": 101
        },
        "outputId": "3c9b57bc-60d7-4757-bfb2-32d6fb7abe33"
      },
      "source": [
        "df_corr_26[\"probes.Symbol\"].values"
      ],
      "execution_count": 99,
      "outputs": [
        {
          "output_type": "execute_result",
          "data": {
            "text/plain": [
              "array(['SST', 'CHGB', 'STAT4', 'AC004951.6', 'MT1M', 'LOC101929787',\n",
              "       'SLC39A12', 'JPX', 'TMEM200A', 'SPHKAP', 'CTD-3092A11.2',\n",
              "       'RP11-389C8.2', 'P2RY14', 'RP11-271C24.3', 'PVALB', 'LOC101060510',\n",
              "       'PCP4', 'RP11-710C12.1', 'RSPO2', 'ADCYAP1', 'FAM107B', 'BCAS1',\n",
              "       'SDR16C5', 'APLNR', 'GFAP', 'PPEF1'], dtype=object)"
            ]
          },
          "metadata": {
            "tags": []
          },
          "execution_count": 99
        }
      ]
    },
    {
      "cell_type": "markdown",
      "metadata": {
        "id": "ffuouEqH2fMu",
        "colab_type": "text"
      },
      "source": [
        "find AD genes using similiar symbols"
      ]
    },
    {
      "cell_type": "code",
      "metadata": {
        "id": "6D0pVgqC2ml3",
        "colab_type": "code",
        "colab": {
          "base_uri": "https://localhost:8080/",
          "height": 34
        },
        "outputId": "e6e01379-7259-4e90-fcbf-d3e09d25aa3f"
      },
      "source": [
        "df_similiar_brain = pd.read_pickle(\"drive/My Drive/FYP/Found genes/similiar_final_found.pkl\")\n",
        "df_similiar_brain.shape"
      ],
      "execution_count": 24,
      "outputs": [
        {
          "output_type": "execute_result",
          "data": {
            "text/plain": [
              "(127, 1)"
            ]
          },
          "metadata": {
            "tags": []
          },
          "execution_count": 24
        }
      ]
    },
    {
      "cell_type": "code",
      "metadata": {
        "id": "rQV2K2ur3SI5",
        "colab_type": "code",
        "colab": {
          "base_uri": "https://localhost:8080/",
          "height": 168
        },
        "outputId": "f9841dd2-f360-46df-f3e5-301f2d83c254"
      },
      "source": [
        "result = pd.merge(df_AD, df_similiar_brain, on='probes.Symbol', how='inner')\n",
        "arr = result[\"probes.Symbol\"].values\n",
        "print(len(arr))\n",
        "print(arr)"
      ],
      "execution_count": 25,
      "outputs": [
        {
          "output_type": "stream",
          "text": [
            "64\n",
            "['MKKS' 'NAP1L5' 'HSP90AB1' 'IMMT' 'MAP2K1' 'MAP2K4' 'MAL2' 'MDH1' 'LRP4'\n",
            " 'GOT1' 'GLOD4' 'GLRB' 'GPI' 'CDK5' 'CHGB' 'EPB41L3' 'EPDR1' 'CALY'\n",
            " 'CACNA2D3' 'AMPH' 'ATP1A1' 'ATP6V0B' 'ATP6V1E1' 'FHL2' 'GABRG2' 'COPS5'\n",
            " 'NPTX2' 'PLK2' 'PSMD8' 'SCG2' 'SERTM1' 'SLC35B1' 'SLC39A12' 'SMYD3'\n",
            " 'SNCA' 'SLC9A6' 'SST' 'STMN2' 'SGIP1' 'NDRG4' 'NEAT1' 'NECAP1' 'NIT2'\n",
            " 'NME1' 'PSMA5' 'PSMB4' 'NRXN3' 'MT1M' 'NRN1' 'NEFL' 'PCDH8' 'APOO' 'CCK'\n",
            " 'DHCR24' 'TUBA4A' 'TUBB3' 'TUBB4B' 'TM2D2' 'TM9SF2' 'VSNL1' 'TAF9'\n",
            " 'TARBP1' 'TRMT10C' 'ZDHHC23']\n"
          ],
          "name": "stdout"
        }
      ]
    },
    {
      "cell_type": "markdown",
      "metadata": {
        "id": "_NSF2pibj7ZG",
        "colab_type": "text"
      },
      "source": [
        "Compare final results"
      ]
    },
    {
      "cell_type": "code",
      "metadata": {
        "id": "4GZ5Gg6Rj9ni",
        "colab_type": "code",
        "colab": {}
      },
      "source": [
        "df_best_biomarker = pd.read_pickle(\"drive/My Drive/FYP/Found genes/final_found_genes.pkl\")\n",
        "df_best_biomarker.rename(columns  = {\"Symbol\": \"probes.Symbol\"}, \n",
        "                                 inplace = True) "
      ],
      "execution_count": 0,
      "outputs": []
    },
    {
      "cell_type": "code",
      "metadata": {
        "id": "OPyLiIkMkn5S",
        "colab_type": "code",
        "colab": {
          "base_uri": "https://localhost:8080/",
          "height": 84
        },
        "outputId": "315bb703-6b94-45fc-a9b1-96f0d4eae5dd"
      },
      "source": [
        "df_best_biomarker[\"probes.Symbol\"].values"
      ],
      "execution_count": 13,
      "outputs": [
        {
          "output_type": "execute_result",
          "data": {
            "text/plain": [
              "array(['AC004951.6', 'MAFF', 'SLC39A12', 'PCYOX1L', 'CTD-3092A11.2',\n",
              "       'RP11-271C24.3', 'PRO1804', 'PRR34-AS1', 'SST', 'CHGB', 'MT1M',\n",
              "       'SLC39A12', 'JPX', 'CTD-3092A11.2', 'RP11-271C24.3', 'APLNR',\n",
              "       'PPEF1'], dtype=object)"
            ]
          },
          "metadata": {
            "tags": []
          },
          "execution_count": 13
        }
      ]
    },
    {
      "cell_type": "code",
      "metadata": {
        "id": "NfwzQr8XkKF1",
        "colab_type": "code",
        "colab": {
          "base_uri": "https://localhost:8080/",
          "height": 50
        },
        "outputId": "c3267ecd-4883-4221-d6a2-f6a9bbc681ba"
      },
      "source": [
        "result = pd.merge(df_AD, df_best_biomarker, on='probes.Symbol', how='inner')\n",
        "arr = result[\"probes.Symbol\"].values\n",
        "print(len(arr))\n",
        "print(arr)"
      ],
      "execution_count": 11,
      "outputs": [
        {
          "output_type": "stream",
          "text": [
            "5\n",
            "['CHGB' 'SLC39A12' 'SLC39A12' 'SST' 'MT1M']\n"
          ],
          "name": "stdout"
        }
      ]
    }
  ]
}