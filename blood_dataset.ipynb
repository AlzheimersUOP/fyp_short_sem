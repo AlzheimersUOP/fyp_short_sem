{
  "nbformat": 4,
  "nbformat_minor": 0,
  "metadata": {
    "colab": {
      "name": "blood_dataset.ipynb",
      "provenance": [],
      "collapsed_sections": [],
      "include_colab_link": true
    },
    "kernelspec": {
      "name": "python3",
      "display_name": "Python 3"
    }
  },
  "cells": [
    {
      "cell_type": "markdown",
      "metadata": {
        "id": "view-in-github",
        "colab_type": "text"
      },
      "source": [
        "<a href=\"https://colab.research.google.com/github/kaveesha06/fyp_short_sem/blob/master/blood_dataset.ipynb\" target=\"_parent\"><img src=\"https://colab.research.google.com/assets/colab-badge.svg\" alt=\"Open In Colab\"/></a>"
      ]
    },
    {
      "cell_type": "code",
      "metadata": {
        "id": "w6Z-pzwybztv",
        "colab_type": "code",
        "colab": {}
      },
      "source": [
        "import csv\n",
        "import pandas as pd\n",
        "import numpy as np"
      ],
      "execution_count": 0,
      "outputs": []
    },
    {
      "cell_type": "code",
      "metadata": {
        "id": "xvkEUHafcf7H",
        "colab_type": "code",
        "outputId": "7da4b2d8-6318-4b65-8584-ec9e2f044a42",
        "colab": {
          "base_uri": "https://localhost:8080/",
          "height": 121
        }
      },
      "source": [
        "from google.colab import drive\n",
        "drive.mount('/content/drive')"
      ],
      "execution_count": 3,
      "outputs": [
        {
          "output_type": "stream",
          "text": [
            "Go to this URL in a browser: https://accounts.google.com/o/oauth2/auth?client_id=947318989803-6bn6qk8qdgf4n4g3pfee6491hc0brc4i.apps.googleusercontent.com&redirect_uri=urn%3Aietf%3Awg%3Aoauth%3A2.0%3Aoob&scope=email%20https%3A%2F%2Fwww.googleapis.com%2Fauth%2Fdocs.test%20https%3A%2F%2Fwww.googleapis.com%2Fauth%2Fdrive%20https%3A%2F%2Fwww.googleapis.com%2Fauth%2Fdrive.photos.readonly%20https%3A%2F%2Fwww.googleapis.com%2Fauth%2Fpeopleapi.readonly&response_type=code\n",
            "\n",
            "Enter your authorization code:\n",
            "··········\n",
            "Mounted at /content/drive\n"
          ],
          "name": "stdout"
        }
      ]
    },
    {
      "cell_type": "code",
      "metadata": {
        "id": "sad0vai3cxX8",
        "colab_type": "code",
        "colab": {}
      },
      "source": [
        "root_path = 'drive/My Drive/FYP/dataset/'\n",
        "dataFrameA = pd.read_csv(root_path +'gse63061_ADMCICtr_Residual_normT_lab.txt',sep = \"\\t\", index_col=0)\n",
        "\n",
        "\n"
      ],
      "execution_count": 0,
      "outputs": []
    },
    {
      "cell_type": "code",
      "metadata": {
        "id": "PMWllZmSKcoa",
        "colab_type": "code",
        "colab": {}
      },
      "source": [
        "#dataFrameA"
      ],
      "execution_count": 0,
      "outputs": []
    },
    {
      "cell_type": "code",
      "metadata": {
        "id": "wA9TfAsYfo5e",
        "colab_type": "code",
        "colab": {}
      },
      "source": [
        "#Assigning numeric values to catogrical values\n",
        "from sklearn.preprocessing import LabelEncoder\n",
        "labelEncoder_X = LabelEncoder()\n",
        "dataFrameA.iloc[:,0] = labelEncoder_X.fit_transform(dataFrameA.iloc[:,0])\n"
      ],
      "execution_count": 0,
      "outputs": []
    },
    {
      "cell_type": "code",
      "metadata": {
        "id": "ONYUHSWFovFv",
        "colab_type": "code",
        "colab": {}
      },
      "source": [
        "dataFrameA_transposed = dataFrameA.T\n",
        "dataFrameA_transposed = dataFrameA_transposed.iloc[1:]\n",
        "#print(dataFrameA_transposed)\n",
        "dataFrameA_transposed.index.name = 'PROBE_ID'\n",
        "\n"
      ],
      "execution_count": 0,
      "outputs": []
    },
    {
      "cell_type": "code",
      "metadata": {
        "id": "Ke4oXKAhuQ_m",
        "colab_type": "code",
        "colab": {}
      },
      "source": [
        "root_path = 'drive/My Drive/FYP/dataset/probes/'\n",
        "dataFrameB = pd.read_csv(root_path + 'illumina2.csv', index_col=0, encoding = 'unicode_escape')\n",
        "\n"
      ],
      "execution_count": 0,
      "outputs": []
    },
    {
      "cell_type": "code",
      "metadata": {
        "id": "MZrkMyNCzFvv",
        "colab_type": "code",
        "colab": {}
      },
      "source": [
        "results = dataFrameA_transposed.merge(dataFrameB, left_on = dataFrameA_transposed.index, right_on = dataFrameB.index)\n"
      ],
      "execution_count": 0,
      "outputs": []
    },
    {
      "cell_type": "code",
      "metadata": {
        "id": "HTsNKSZd4Zp3",
        "colab_type": "code",
        "outputId": "01c2e88c-59cf-4ee4-8053-9dc11bf7ceeb",
        "colab": {
          "base_uri": "https://localhost:8080/",
          "height": 50
        }
      },
      "source": [
        "print(results.Entrez_Gene_ID.isna().sum())  # the rows for missing Entrez_Gene_ID is already filtered out\n",
        "#results = results.dropna(axis=0, subset=['Entrez_Gene_ID'])\n",
        "#print(results.Entrez_Gene_ID)\n",
        "print(results.Entrez_Gene_ID.unique().size) #number of unique genes = 16928\n"
      ],
      "execution_count": 12,
      "outputs": [
        {
          "output_type": "stream",
          "text": [
            "0\n",
            "16928\n"
          ],
          "name": "stdout"
        }
      ]
    }
  ]
}