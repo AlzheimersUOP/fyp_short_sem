{
  "nbformat": 4,
  "nbformat_minor": 0,
  "metadata": {
    "colab": {
      "name": "Feature selection using correlation matrix.ipynb",
      "provenance": [],
      "collapsed_sections": [],
      "include_colab_link": true
    },
    "kernelspec": {
      "name": "python3",
      "display_name": "Python 3"
    }
  },
  "cells": [
    {
      "cell_type": "markdown",
      "metadata": {
        "id": "view-in-github",
        "colab_type": "text"
      },
      "source": [
        "<a href=\"https://colab.research.google.com/github/shehanshaman/fyp_short_sem/blob/master/Feature_selection_using_correlation_matrix.ipynb\" target=\"_parent\"><img src=\"https://colab.research.google.com/assets/colab-badge.svg\" alt=\"Open In Colab\"/></a>"
      ]
    },
    {
      "cell_type": "code",
      "metadata": {
        "id": "I2ZfOHNCNCE0",
        "colab_type": "code",
        "colab": {
          "base_uri": "https://localhost:8080/",
          "height": 121
        },
        "outputId": "35808e35-76b2-4ea0-ae6b-a428833bd7dc"
      },
      "source": [
        "from google.colab import drive\n",
        "drive.mount('/content/drive')"
      ],
      "execution_count": 1,
      "outputs": [
        {
          "output_type": "stream",
          "text": [
            "Go to this URL in a browser: https://accounts.google.com/o/oauth2/auth?client_id=947318989803-6bn6qk8qdgf4n4g3pfee6491hc0brc4i.apps.googleusercontent.com&redirect_uri=urn%3Aietf%3Awg%3Aoauth%3A2.0%3Aoob&scope=email%20https%3A%2F%2Fwww.googleapis.com%2Fauth%2Fdocs.test%20https%3A%2F%2Fwww.googleapis.com%2Fauth%2Fdrive%20https%3A%2F%2Fwww.googleapis.com%2Fauth%2Fdrive.photos.readonly%20https%3A%2F%2Fwww.googleapis.com%2Fauth%2Fpeopleapi.readonly&response_type=code\n",
            "\n",
            "Enter your authorization code:\n",
            "··········\n",
            "Mounted at /content/drive\n"
          ],
          "name": "stdout"
        }
      ]
    },
    {
      "cell_type": "code",
      "metadata": {
        "id": "QdaBipPtNXYg",
        "colab_type": "code",
        "colab": {
          "base_uri": "https://localhost:8080/",
          "height": 261
        },
        "outputId": "ee8b62b4-0f9a-424a-cb1c-fea241e4275b"
      },
      "source": [
        "import numpy as np\n",
        "import pandas as pd\n",
        "\n",
        "df = pd.read_pickle(\"drive/My Drive/FYP/dataset/GSE5281/GSE5281_DE_200.plk\")\n",
        "# df = pd.read_pickle(\"drive/My Drive/FYP/dataset/GSE5281/GSE5281_DE_2311.plk\")\n",
        "df.head()"
      ],
      "execution_count": 76,
      "outputs": [
        {
          "output_type": "execute_result",
          "data": {
            "text/html": [
              "<div>\n",
              "<style scoped>\n",
              "    .dataframe tbody tr th:only-of-type {\n",
              "        vertical-align: middle;\n",
              "    }\n",
              "\n",
              "    .dataframe tbody tr th {\n",
              "        vertical-align: top;\n",
              "    }\n",
              "\n",
              "    .dataframe thead th {\n",
              "        text-align: right;\n",
              "    }\n",
              "</style>\n",
              "<table border=\"1\" class=\"dataframe\">\n",
              "  <thead>\n",
              "    <tr style=\"text-align: right;\">\n",
              "      <th>Symbol</th>\n",
              "      <th>SST</th>\n",
              "      <th>CHGB</th>\n",
              "      <th>CALY</th>\n",
              "      <th>CHRM1</th>\n",
              "      <th>GOT1</th>\n",
              "      <th>STAT4</th>\n",
              "      <th>NME1</th>\n",
              "      <th>AC004951.6</th>\n",
              "      <th>AX747182</th>\n",
              "      <th>SERTM1</th>\n",
              "      <th>PCSK1</th>\n",
              "      <th>ATP6V1G2</th>\n",
              "      <th>MT1M</th>\n",
              "      <th>GPI</th>\n",
              "      <th>LOC101929787</th>\n",
              "      <th>LOC100272216</th>\n",
              "      <th>MAFF</th>\n",
              "      <th>KIFAP3</th>\n",
              "      <th>MAL2</th>\n",
              "      <th>AMPH</th>\n",
              "      <th>SLC39A12</th>\n",
              "      <th>MTX2</th>\n",
              "      <th>MIR612</th>\n",
              "      <th>NEAT1</th>\n",
              "      <th>ZIC2</th>\n",
              "      <th>PCYOX1L</th>\n",
              "      <th>TAC1</th>\n",
              "      <th>ZNF204P</th>\n",
              "      <th>JPX</th>\n",
              "      <th>MDH1</th>\n",
              "      <th>CCK</th>\n",
              "      <th>PSMB3</th>\n",
              "      <th>NIT2</th>\n",
              "      <th>ATP5B</th>\n",
              "      <th>TMEM200A</th>\n",
              "      <th>ATP6V1B2</th>\n",
              "      <th>DHCR24</th>\n",
              "      <th>SLIRP</th>\n",
              "      <th>VSNL1</th>\n",
              "      <th>MGC12488</th>\n",
              "      <th>...</th>\n",
              "      <th>TM9SF2</th>\n",
              "      <th>CCNH</th>\n",
              "      <th>SLC12A7</th>\n",
              "      <th>APLNR</th>\n",
              "      <th>MAP2K1</th>\n",
              "      <th>SLC35B1</th>\n",
              "      <th>CACNA2D3</th>\n",
              "      <th>PCDH8</th>\n",
              "      <th>GLRB</th>\n",
              "      <th>NEFL</th>\n",
              "      <th>YAP1</th>\n",
              "      <th>NRSN1</th>\n",
              "      <th>SLC9A6</th>\n",
              "      <th>CAPNS1</th>\n",
              "      <th>ALAS1</th>\n",
              "      <th>FIG4</th>\n",
              "      <th>PSENEN</th>\n",
              "      <th>GFAP</th>\n",
              "      <th>IMMT</th>\n",
              "      <th>SUCLA2</th>\n",
              "      <th>FHL2</th>\n",
              "      <th>AK090844</th>\n",
              "      <th>RAB33A</th>\n",
              "      <th>ZCCHC24</th>\n",
              "      <th>PPEF1</th>\n",
              "      <th>MLLT11</th>\n",
              "      <th>RGS4</th>\n",
              "      <th>SLC16A14</th>\n",
              "      <th>SNCA</th>\n",
              "      <th>PRR34-AS1</th>\n",
              "      <th>RGS7</th>\n",
              "      <th>NRXN3</th>\n",
              "      <th>NAA20</th>\n",
              "      <th>UCHL3</th>\n",
              "      <th>HACL1</th>\n",
              "      <th>ATP6V0B</th>\n",
              "      <th>ATP1A1</th>\n",
              "      <th>SLITRK4</th>\n",
              "      <th>MAP7D2</th>\n",
              "      <th>class</th>\n",
              "    </tr>\n",
              "  </thead>\n",
              "  <tbody>\n",
              "    <tr>\n",
              "      <th>GSM119615</th>\n",
              "      <td>8.131880</td>\n",
              "      <td>8.038977</td>\n",
              "      <td>5.151241</td>\n",
              "      <td>5.960189</td>\n",
              "      <td>6.496582</td>\n",
              "      <td>5.177266</td>\n",
              "      <td>6.735126</td>\n",
              "      <td>4.923159</td>\n",
              "      <td>4.923159</td>\n",
              "      <td>5.585295</td>\n",
              "      <td>5.573235</td>\n",
              "      <td>8.434417</td>\n",
              "      <td>3.951437</td>\n",
              "      <td>6.968975</td>\n",
              "      <td>5.885994</td>\n",
              "      <td>6.083629</td>\n",
              "      <td>4.681431</td>\n",
              "      <td>6.380428</td>\n",
              "      <td>8.110305</td>\n",
              "      <td>8.915695</td>\n",
              "      <td>6.329852</td>\n",
              "      <td>7.560527</td>\n",
              "      <td>5.166372</td>\n",
              "      <td>5.166372</td>\n",
              "      <td>5.868591</td>\n",
              "      <td>6.328347</td>\n",
              "      <td>8.347192</td>\n",
              "      <td>7.275703</td>\n",
              "      <td>2.934900</td>\n",
              "      <td>10.763783</td>\n",
              "      <td>9.171231</td>\n",
              "      <td>6.893028</td>\n",
              "      <td>6.257113</td>\n",
              "      <td>8.455516</td>\n",
              "      <td>7.526488</td>\n",
              "      <td>8.284930</td>\n",
              "      <td>6.960068</td>\n",
              "      <td>7.639021</td>\n",
              "      <td>10.283798</td>\n",
              "      <td>4.911598</td>\n",
              "      <td>...</td>\n",
              "      <td>6.481914</td>\n",
              "      <td>7.011247</td>\n",
              "      <td>6.635072</td>\n",
              "      <td>4.528372</td>\n",
              "      <td>8.128725</td>\n",
              "      <td>5.278402</td>\n",
              "      <td>7.828262</td>\n",
              "      <td>9.860453</td>\n",
              "      <td>6.917989</td>\n",
              "      <td>9.267750</td>\n",
              "      <td>4.186140</td>\n",
              "      <td>8.675869</td>\n",
              "      <td>9.841581</td>\n",
              "      <td>6.251841</td>\n",
              "      <td>5.816591</td>\n",
              "      <td>7.935832</td>\n",
              "      <td>4.435020</td>\n",
              "      <td>7.054613</td>\n",
              "      <td>7.414872</td>\n",
              "      <td>7.961066</td>\n",
              "      <td>5.799641</td>\n",
              "      <td>5.298147</td>\n",
              "      <td>5.783877</td>\n",
              "      <td>7.456909</td>\n",
              "      <td>3.927690</td>\n",
              "      <td>10.847098</td>\n",
              "      <td>7.307455</td>\n",
              "      <td>8.620085</td>\n",
              "      <td>7.958731</td>\n",
              "      <td>6.325037</td>\n",
              "      <td>6.384926</td>\n",
              "      <td>7.623302</td>\n",
              "      <td>7.276087</td>\n",
              "      <td>5.246386</td>\n",
              "      <td>4.698036</td>\n",
              "      <td>6.566670</td>\n",
              "      <td>8.079477</td>\n",
              "      <td>7.012174</td>\n",
              "      <td>8.392132</td>\n",
              "      <td>0</td>\n",
              "    </tr>\n",
              "    <tr>\n",
              "      <th>GSM119616</th>\n",
              "      <td>9.505370</td>\n",
              "      <td>6.843639</td>\n",
              "      <td>5.565685</td>\n",
              "      <td>8.256848</td>\n",
              "      <td>6.808876</td>\n",
              "      <td>5.937782</td>\n",
              "      <td>7.084662</td>\n",
              "      <td>4.308553</td>\n",
              "      <td>4.308553</td>\n",
              "      <td>5.424460</td>\n",
              "      <td>4.320161</td>\n",
              "      <td>8.430603</td>\n",
              "      <td>4.281796</td>\n",
              "      <td>8.000928</td>\n",
              "      <td>5.867583</td>\n",
              "      <td>5.881952</td>\n",
              "      <td>4.849331</td>\n",
              "      <td>4.707004</td>\n",
              "      <td>6.259058</td>\n",
              "      <td>8.320264</td>\n",
              "      <td>3.686194</td>\n",
              "      <td>6.720044</td>\n",
              "      <td>4.380328</td>\n",
              "      <td>4.380328</td>\n",
              "      <td>4.223862</td>\n",
              "      <td>7.514385</td>\n",
              "      <td>5.181012</td>\n",
              "      <td>6.709932</td>\n",
              "      <td>2.920651</td>\n",
              "      <td>9.269761</td>\n",
              "      <td>7.808680</td>\n",
              "      <td>8.121838</td>\n",
              "      <td>6.331245</td>\n",
              "      <td>8.937122</td>\n",
              "      <td>8.268992</td>\n",
              "      <td>7.795785</td>\n",
              "      <td>7.118234</td>\n",
              "      <td>8.470085</td>\n",
              "      <td>9.097778</td>\n",
              "      <td>4.862214</td>\n",
              "      <td>...</td>\n",
              "      <td>5.992824</td>\n",
              "      <td>6.292830</td>\n",
              "      <td>6.375591</td>\n",
              "      <td>5.458683</td>\n",
              "      <td>7.259421</td>\n",
              "      <td>6.062100</td>\n",
              "      <td>7.621714</td>\n",
              "      <td>8.018103</td>\n",
              "      <td>6.181431</td>\n",
              "      <td>8.943403</td>\n",
              "      <td>3.566653</td>\n",
              "      <td>7.639978</td>\n",
              "      <td>9.082520</td>\n",
              "      <td>7.135552</td>\n",
              "      <td>6.144733</td>\n",
              "      <td>9.000454</td>\n",
              "      <td>4.363489</td>\n",
              "      <td>7.491630</td>\n",
              "      <td>6.946851</td>\n",
              "      <td>7.412511</td>\n",
              "      <td>6.767040</td>\n",
              "      <td>5.279988</td>\n",
              "      <td>6.146401</td>\n",
              "      <td>7.418142</td>\n",
              "      <td>5.079694</td>\n",
              "      <td>11.668155</td>\n",
              "      <td>7.324564</td>\n",
              "      <td>7.498362</td>\n",
              "      <td>7.426317</td>\n",
              "      <td>6.648298</td>\n",
              "      <td>6.447447</td>\n",
              "      <td>6.868568</td>\n",
              "      <td>6.718846</td>\n",
              "      <td>4.696639</td>\n",
              "      <td>5.302263</td>\n",
              "      <td>6.957373</td>\n",
              "      <td>8.561748</td>\n",
              "      <td>6.600915</td>\n",
              "      <td>8.290398</td>\n",
              "      <td>0</td>\n",
              "    </tr>\n",
              "    <tr>\n",
              "      <th>GSM119617</th>\n",
              "      <td>5.369160</td>\n",
              "      <td>4.665645</td>\n",
              "      <td>4.252331</td>\n",
              "      <td>6.834361</td>\n",
              "      <td>4.808397</td>\n",
              "      <td>4.486761</td>\n",
              "      <td>5.409682</td>\n",
              "      <td>5.665046</td>\n",
              "      <td>5.665046</td>\n",
              "      <td>3.364531</td>\n",
              "      <td>3.173762</td>\n",
              "      <td>5.653338</td>\n",
              "      <td>5.513703</td>\n",
              "      <td>6.178967</td>\n",
              "      <td>4.493120</td>\n",
              "      <td>6.389841</td>\n",
              "      <td>4.266874</td>\n",
              "      <td>3.454873</td>\n",
              "      <td>3.314502</td>\n",
              "      <td>5.044705</td>\n",
              "      <td>3.599311</td>\n",
              "      <td>4.476322</td>\n",
              "      <td>4.598128</td>\n",
              "      <td>4.598128</td>\n",
              "      <td>4.741784</td>\n",
              "      <td>5.884224</td>\n",
              "      <td>2.750926</td>\n",
              "      <td>4.544694</td>\n",
              "      <td>2.957573</td>\n",
              "      <td>6.592042</td>\n",
              "      <td>5.094963</td>\n",
              "      <td>5.935664</td>\n",
              "      <td>3.925424</td>\n",
              "      <td>7.702212</td>\n",
              "      <td>4.875246</td>\n",
              "      <td>5.456936</td>\n",
              "      <td>4.877980</td>\n",
              "      <td>6.446468</td>\n",
              "      <td>6.502673</td>\n",
              "      <td>5.294911</td>\n",
              "      <td>...</td>\n",
              "      <td>4.393931</td>\n",
              "      <td>4.383398</td>\n",
              "      <td>6.730196</td>\n",
              "      <td>5.016607</td>\n",
              "      <td>5.234606</td>\n",
              "      <td>4.735439</td>\n",
              "      <td>4.595901</td>\n",
              "      <td>4.923356</td>\n",
              "      <td>4.103622</td>\n",
              "      <td>5.937121</td>\n",
              "      <td>3.534403</td>\n",
              "      <td>6.366537</td>\n",
              "      <td>6.387074</td>\n",
              "      <td>6.485473</td>\n",
              "      <td>4.318861</td>\n",
              "      <td>8.097815</td>\n",
              "      <td>3.472717</td>\n",
              "      <td>7.186470</td>\n",
              "      <td>5.193497</td>\n",
              "      <td>4.871446</td>\n",
              "      <td>5.890325</td>\n",
              "      <td>6.716955</td>\n",
              "      <td>4.677529</td>\n",
              "      <td>7.630651</td>\n",
              "      <td>3.765344</td>\n",
              "      <td>9.503726</td>\n",
              "      <td>5.363508</td>\n",
              "      <td>4.069276</td>\n",
              "      <td>5.191100</td>\n",
              "      <td>6.747926</td>\n",
              "      <td>5.840032</td>\n",
              "      <td>5.171308</td>\n",
              "      <td>4.926782</td>\n",
              "      <td>3.523475</td>\n",
              "      <td>3.793645</td>\n",
              "      <td>5.613994</td>\n",
              "      <td>6.183599</td>\n",
              "      <td>3.677790</td>\n",
              "      <td>6.366832</td>\n",
              "      <td>0</td>\n",
              "    </tr>\n",
              "    <tr>\n",
              "      <th>GSM119618</th>\n",
              "      <td>5.999060</td>\n",
              "      <td>5.293017</td>\n",
              "      <td>5.245800</td>\n",
              "      <td>7.863578</td>\n",
              "      <td>4.886358</td>\n",
              "      <td>4.517919</td>\n",
              "      <td>4.878878</td>\n",
              "      <td>5.699413</td>\n",
              "      <td>5.699413</td>\n",
              "      <td>3.256316</td>\n",
              "      <td>3.239969</td>\n",
              "      <td>6.032224</td>\n",
              "      <td>5.696868</td>\n",
              "      <td>6.902142</td>\n",
              "      <td>4.852395</td>\n",
              "      <td>6.174321</td>\n",
              "      <td>4.890228</td>\n",
              "      <td>3.162665</td>\n",
              "      <td>3.420588</td>\n",
              "      <td>6.075690</td>\n",
              "      <td>3.675883</td>\n",
              "      <td>5.037034</td>\n",
              "      <td>4.777270</td>\n",
              "      <td>4.777270</td>\n",
              "      <td>4.456430</td>\n",
              "      <td>6.072395</td>\n",
              "      <td>3.954933</td>\n",
              "      <td>4.304102</td>\n",
              "      <td>3.929218</td>\n",
              "      <td>6.965705</td>\n",
              "      <td>5.701809</td>\n",
              "      <td>6.574085</td>\n",
              "      <td>4.373662</td>\n",
              "      <td>7.954236</td>\n",
              "      <td>4.715554</td>\n",
              "      <td>5.423112</td>\n",
              "      <td>5.092454</td>\n",
              "      <td>6.445284</td>\n",
              "      <td>7.277838</td>\n",
              "      <td>5.940631</td>\n",
              "      <td>...</td>\n",
              "      <td>4.946065</td>\n",
              "      <td>4.509396</td>\n",
              "      <td>6.818696</td>\n",
              "      <td>5.455425</td>\n",
              "      <td>4.170590</td>\n",
              "      <td>4.704986</td>\n",
              "      <td>4.562267</td>\n",
              "      <td>5.021351</td>\n",
              "      <td>4.262546</td>\n",
              "      <td>6.659974</td>\n",
              "      <td>3.333360</td>\n",
              "      <td>6.384433</td>\n",
              "      <td>7.335424</td>\n",
              "      <td>6.555934</td>\n",
              "      <td>4.342724</td>\n",
              "      <td>8.521468</td>\n",
              "      <td>3.992268</td>\n",
              "      <td>7.553568</td>\n",
              "      <td>5.467763</td>\n",
              "      <td>4.919411</td>\n",
              "      <td>5.698300</td>\n",
              "      <td>6.608849</td>\n",
              "      <td>5.180804</td>\n",
              "      <td>7.807734</td>\n",
              "      <td>3.603359</td>\n",
              "      <td>10.139533</td>\n",
              "      <td>5.626352</td>\n",
              "      <td>4.978548</td>\n",
              "      <td>6.106691</td>\n",
              "      <td>7.378966</td>\n",
              "      <td>5.936174</td>\n",
              "      <td>5.411828</td>\n",
              "      <td>5.461794</td>\n",
              "      <td>3.848761</td>\n",
              "      <td>4.159845</td>\n",
              "      <td>6.010982</td>\n",
              "      <td>6.505356</td>\n",
              "      <td>4.053398</td>\n",
              "      <td>7.139060</td>\n",
              "      <td>0</td>\n",
              "    </tr>\n",
              "    <tr>\n",
              "      <th>GSM119619</th>\n",
              "      <td>9.820469</td>\n",
              "      <td>9.230820</td>\n",
              "      <td>6.719501</td>\n",
              "      <td>7.177746</td>\n",
              "      <td>7.966393</td>\n",
              "      <td>6.153760</td>\n",
              "      <td>8.338353</td>\n",
              "      <td>3.590518</td>\n",
              "      <td>3.590518</td>\n",
              "      <td>6.930045</td>\n",
              "      <td>6.690597</td>\n",
              "      <td>8.947760</td>\n",
              "      <td>4.743912</td>\n",
              "      <td>8.350846</td>\n",
              "      <td>5.228459</td>\n",
              "      <td>6.785353</td>\n",
              "      <td>5.220601</td>\n",
              "      <td>7.127253</td>\n",
              "      <td>9.211837</td>\n",
              "      <td>9.256675</td>\n",
              "      <td>5.360266</td>\n",
              "      <td>7.971362</td>\n",
              "      <td>4.845992</td>\n",
              "      <td>4.845992</td>\n",
              "      <td>4.778356</td>\n",
              "      <td>6.846255</td>\n",
              "      <td>9.312080</td>\n",
              "      <td>7.200142</td>\n",
              "      <td>3.003917</td>\n",
              "      <td>11.759778</td>\n",
              "      <td>9.423194</td>\n",
              "      <td>7.365393</td>\n",
              "      <td>7.489957</td>\n",
              "      <td>9.778586</td>\n",
              "      <td>8.368750</td>\n",
              "      <td>10.092938</td>\n",
              "      <td>8.010270</td>\n",
              "      <td>8.065691</td>\n",
              "      <td>10.858154</td>\n",
              "      <td>4.673697</td>\n",
              "      <td>...</td>\n",
              "      <td>8.024168</td>\n",
              "      <td>7.967964</td>\n",
              "      <td>5.854620</td>\n",
              "      <td>4.936726</td>\n",
              "      <td>8.956529</td>\n",
              "      <td>6.474409</td>\n",
              "      <td>8.466506</td>\n",
              "      <td>9.983657</td>\n",
              "      <td>7.696830</td>\n",
              "      <td>10.167188</td>\n",
              "      <td>4.075549</td>\n",
              "      <td>8.777251</td>\n",
              "      <td>9.862478</td>\n",
              "      <td>7.814851</td>\n",
              "      <td>7.751669</td>\n",
              "      <td>8.701667</td>\n",
              "      <td>5.069903</td>\n",
              "      <td>6.793184</td>\n",
              "      <td>7.869865</td>\n",
              "      <td>8.728413</td>\n",
              "      <td>6.947103</td>\n",
              "      <td>5.085018</td>\n",
              "      <td>7.842291</td>\n",
              "      <td>6.909034</td>\n",
              "      <td>5.465145</td>\n",
              "      <td>11.596214</td>\n",
              "      <td>8.258840</td>\n",
              "      <td>9.072204</td>\n",
              "      <td>8.954750</td>\n",
              "      <td>6.282552</td>\n",
              "      <td>7.301119</td>\n",
              "      <td>8.285918</td>\n",
              "      <td>8.664166</td>\n",
              "      <td>6.133759</td>\n",
              "      <td>5.540673</td>\n",
              "      <td>8.205254</td>\n",
              "      <td>9.832953</td>\n",
              "      <td>7.663027</td>\n",
              "      <td>9.157813</td>\n",
              "      <td>0</td>\n",
              "    </tr>\n",
              "  </tbody>\n",
              "</table>\n",
              "<p>5 rows × 201 columns</p>\n",
              "</div>"
            ],
            "text/plain": [
              "Symbol          SST      CHGB      CALY  ...   SLITRK4    MAP7D2  class\n",
              "GSM119615  8.131880  8.038977  5.151241  ...  7.012174  8.392132      0\n",
              "GSM119616  9.505370  6.843639  5.565685  ...  6.600915  8.290398      0\n",
              "GSM119617  5.369160  4.665645  4.252331  ...  3.677790  6.366832      0\n",
              "GSM119618  5.999060  5.293017  5.245800  ...  4.053398  7.139060      0\n",
              "GSM119619  9.820469  9.230820  6.719501  ...  7.663027  9.157813      0\n",
              "\n",
              "[5 rows x 201 columns]"
            ]
          },
          "metadata": {
            "tags": []
          },
          "execution_count": 76
        }
      ]
    },
    {
      "cell_type": "code",
      "metadata": {
        "id": "yIkIvFvqqDqz",
        "colab_type": "code",
        "colab": {}
      },
      "source": [
        "X = df.drop(\"class\",1)\n",
        "y = df[\"class\"]"
      ],
      "execution_count": 0,
      "outputs": []
    },
    {
      "cell_type": "code",
      "metadata": {
        "id": "I1ZskNWZxybe",
        "colab_type": "code",
        "colab": {}
      },
      "source": [
        "# from sklearn import preprocessing\n",
        "\n",
        "# min_max_scaler = preprocessing.MinMaxScaler()\n",
        "# x_scaled = min_max_scaler.fit_transform(X)\n",
        "# df = pd.DataFrame(x_scaled,index=[X.index.values])\n",
        "\n",
        "# df.columns =  X.columns.values\n",
        "\n",
        "# df[\"class\"] = y.values"
      ],
      "execution_count": 0,
      "outputs": []
    },
    {
      "cell_type": "code",
      "metadata": {
        "id": "0vgiciK9yDeE",
        "colab_type": "code",
        "colab": {}
      },
      "source": [
        "# df.head()"
      ],
      "execution_count": 0,
      "outputs": []
    },
    {
      "cell_type": "code",
      "metadata": {
        "id": "7-j9TkuiO3kA",
        "colab_type": "code",
        "colab": {}
      },
      "source": [
        "import seaborn as sns\n",
        "import matplotlib.pyplot as plt\n",
        "from sklearn.preprocessing import LabelEncoder, OneHotEncoder\n",
        "import warnings\n",
        "warnings.filterwarnings(\"ignore\")\n",
        "from sklearn.model_selection import train_test_split\n",
        "from sklearn.svm import SVC\n",
        "from sklearn.metrics import confusion_matrix"
      ],
      "execution_count": 0,
      "outputs": []
    },
    {
      "cell_type": "code",
      "metadata": {
        "id": "p-1ZTfKQNl4t",
        "colab_type": "code",
        "colab": {
          "base_uri": "https://localhost:8080/",
          "height": 369
        },
        "outputId": "8ac4d999-990b-4cc3-bd7a-87cd98ca6b74"
      },
      "source": [
        "corr = X.corr()\n",
        "sns.heatmap(corr)"
      ],
      "execution_count": 7,
      "outputs": [
        {
          "output_type": "execute_result",
          "data": {
            "text/plain": [
              "<matplotlib.axes._subplots.AxesSubplot at 0x7faaab6f1c88>"
            ]
          },
          "metadata": {
            "tags": []
          },
          "execution_count": 7
        },
        {
          "output_type": "display_data",
          "data": {
            "image/png": "[encoded data removed]",
            "text/plain": [
              "<Figure size 432x288 with 2 Axes>"
            ]
          },
          "metadata": {
            "tags": []
          }
        }
      ]
    },
    {
      "cell_type": "code",
      "metadata": {
        "id": "HkBaW5hzfxAL",
        "colab_type": "code",
        "colab": {}
      },
      "source": [
        "# df_tmp.head()"
      ],
      "execution_count": 0,
      "outputs": []
    },
    {
      "cell_type": "code",
      "metadata": {
        "id": "CCt9RJAXPwqK",
        "colab_type": "code",
        "colab": {}
      },
      "source": [
        "from sklearn.model_selection import train_test_split\n",
        "from sklearn import svm\n",
        "from sklearn import metrics\n",
        "\n",
        "from sklearn.model_selection import cross_val_score\n",
        "\n",
        "def svmLinear(dataFrame, target):\n",
        "\n",
        "  clf = svm.SVC(kernel='linear') # Linear Kernel\n",
        "  scores = cross_val_score(clf, dataFrame, target, cv=3)\n",
        "\n",
        "  return scores.mean()\n",
        "\n",
        "from sklearn.svm import SVC\n",
        "\n",
        "def svmGaussian(dataFrame, target):\n",
        "\n",
        "  #Create a svm Classifier\n",
        "  clf = SVC(kernel=\"rbf\", gamma=\"auto\", C=1)\n",
        "  scores = cross_val_score(clf, dataFrame, target, cv=3)\n",
        "\n",
        "  return scores.mean()\n",
        "\n",
        "from sklearn.ensemble import RandomForestClassifier\n",
        "\n",
        "def randomForest(dataFrame, target):\n",
        "\n",
        "  #Create a svm Classifier\n",
        "  clf = RandomForestClassifier(n_estimators=100, max_depth=2,random_state=42)\n",
        "  scores = cross_val_score(clf, dataFrame, target, cv=3)\n",
        "\n",
        "  return scores.mean()"
      ],
      "execution_count": 0,
      "outputs": []
    },
    {
      "cell_type": "code",
      "metadata": {
        "id": "nxyaukJRSbJv",
        "colab_type": "code",
        "colab": {}
      },
      "source": [
        "def getSelectedDF(df, corr, ran):\n",
        "  columns = np.full((corr.shape[0],), True, dtype=bool)\n",
        "  for i in range(corr.shape[0]):\n",
        "      for j in range(i+1, corr.shape[0]):\n",
        "          if corr.iloc[i,j] >= ran or corr.iloc[i,j] <= -ran:\n",
        "              if columns[j]:\n",
        "                  columns[j] = False\n",
        "\n",
        "  selected_columns = df.columns[columns]\n",
        "  df_selected = df[selected_columns]\n",
        "\n",
        "  return df_selected\n"
      ],
      "execution_count": 0,
      "outputs": []
    },
    {
      "cell_type": "code",
      "metadata": {
        "id": "NvmuIBhlR9Da",
        "colab_type": "code",
        "colab": {}
      },
      "source": [
        "def returnScoreDataFrame(dataFrame):\n",
        "  lists0 = []\n",
        "  lists1 = []\n",
        "  lists2 = []\n",
        "  lists3 = []\n",
        "  lists4 = []\n",
        "\n",
        "  i = 1\n",
        "\n",
        "  while i >= 0.6:\n",
        "  # for i in range(0,50):\n",
        "    df_tmp = dataFrame\n",
        "    df_tmp = getSelectedDF(df_tmp, df_tmp.corr(), i)\n",
        "\n",
        "    lists0.append(i)\n",
        "    lists1.append(svmLinear(df_tmp, y))\n",
        "    lists2.append(svmGaussian(df_tmp, y))\n",
        "    lists3.append(randomForest(df_tmp, y))\n",
        "    lists4.append(len(df_tmp.columns))\n",
        "\n",
        "    i = i - 0.0025\n",
        "\n",
        "  rows = [\"i\", \"svmLinear\", \"svmGaussian\", \"randomForest\", \"No of features\"]\n",
        "\n",
        "  data = np.array([lists0, lists1, lists2,lists3, lists4])\n",
        "  results = pd.DataFrame(data=data, index=rows).transpose()\n",
        "\n",
        "  return results"
      ],
      "execution_count": 0,
      "outputs": []
    },
    {
      "cell_type": "code",
      "metadata": {
        "id": "1H9VC3LDuMNt",
        "colab_type": "code",
        "colab": {}
      },
      "source": [
        "pca_col = ['STAT4', 'AMPH', 'ZIC2', 'TAC1', 'TMEM200A', 'SLIRP', 'SLC39A10', 'SPHKAP', 'CALB1', 'CDK7', 'AP2M1', 'PLK2', 'P2RY14', 'EMX2', 'SERPINF1', 'ARPC1A', 'PVALB', 'LOC101060510', 'VAMP7', 'LSM7', 'ATP1A3', 'PCP4', 'EXOC8', 'RIT2', 'BCAS1', 'PSMB4', 'LAMP5', 'PCDH8', 'NRSN1', 'CAPNS1', 'ALAS1', 'RAB33A', 'SLC16A14', 'HACL1']\n",
        "rf_col = ['SLC12A7', 'CKMT1B', 'ATP6V1E1', 'ATP5B', 'LOC100272216', 'REEP1', 'CHRM1', 'COPG2IT1', 'TUBB3', 'PSMB3', 'MIF', 'CDK5', 'IMMT', 'PSMA5', 'PLSCR4', 'LRP4', 'BSCL2', 'ATP5C1']\n",
        "fi_col = ['TARBP1', 'C2orf80', 'CCNH', 'RNF175', 'EPDR1', 'FAM107B', 'FPGT-TNNI3K', 'DHCR24', 'GLRB', 'TUBA4A', 'HMP19', 'SERPINI1', 'NRXN3', 'SUCLA2', 'SDR16C5', 'C12orf10', 'GRAMD3', 'RPH3A']\n",
        "all_found = ['AC004951.6','MAFF', 'SLC39A12', 'PCYOX1L', 'CTD-3092A11.2' ,'RP11-271C24.3',\n",
        "            'PRO1804' ,'PRR34-AS1']"
      ],
      "execution_count": 0,
      "outputs": []
    },
    {
      "cell_type": "code",
      "metadata": {
        "id": "UHpOkE7GYPdw",
        "colab_type": "code",
        "colab": {}
      },
      "source": [
        "corrScore = returnScoreDataFrame(X[pca_col])"
      ],
      "execution_count": 0,
      "outputs": []
    },
    {
      "cell_type": "code",
      "metadata": {
        "id": "hrmDbi3_XGyt",
        "colab_type": "code",
        "colab": {
          "base_uri": "https://localhost:8080/",
          "height": 280
        },
        "outputId": "543a5456-ff96-4f5a-9a0b-a4286aa68bd4"
      },
      "source": [
        "fig, (ax1, ax2) = plt.subplots(1, 2)\n",
        "\n",
        "ax1.plot(corrScore['i'], corrScore[\"svmLinear\"], label='linear')\n",
        "ax1.plot(corrScore['i'], corrScore[\"svmGaussian\"], label='linear')\n",
        "ax1.plot(corrScore['i'], corrScore[\"randomForest\"], label='linear')\n",
        "\n",
        "ax1.legend(['svmLinear', 'svmGaussian', 'randomForest', 'No of features'], loc='lower right')\n",
        "\n",
        "ax1.set(xlabel='correlation coefficient', ylabel='Classification Accuracy')\n",
        "\n",
        "ax2.plot(corrScore['i'], corrScore[\"No of features\"], label='linear')\n",
        "ax2.set(xlabel='correlation coefficient', ylabel='No of features')\n",
        "\n",
        "fig.subplots_adjust(wspace = 0.2)\n",
        "fig.set_figwidth(15)\n",
        "\n",
        "# plt.savefig('drive/My Drive/FYP/plots/select_9_PCA.png', dpi=400)\n",
        "\n",
        "plt.show()"
      ],
      "execution_count": 15,
      "outputs": [
        {
          "output_type": "display_data",
          "data": {
            "image/png": "[encoded data removed]",
            "text/plain": [
              "<Figure size 1080x288 with 2 Axes>"
            ]
          },
          "metadata": {
            "tags": []
          }
        }
      ]
    },
    {
      "cell_type": "markdown",
      "metadata": {
        "id": "lAE_jxDG5Pr1",
        "colab_type": "text"
      },
      "source": [
        "Find maximum acuracy"
      ]
    },
    {
      "cell_type": "code",
      "metadata": {
        "id": "6Zt-fe2E5Ui0",
        "colab_type": "code",
        "colab": {
          "base_uri": "https://localhost:8080/",
          "height": 195
        },
        "outputId": "d522ec02-fdea-4c11-9fd5-365ed4b89450"
      },
      "source": [
        "corrScore.head()"
      ],
      "execution_count": 16,
      "outputs": [
        {
          "output_type": "execute_result",
          "data": {
            "text/html": [
              "<div>\n",
              "<style scoped>\n",
              "    .dataframe tbody tr th:only-of-type {\n",
              "        vertical-align: middle;\n",
              "    }\n",
              "\n",
              "    .dataframe tbody tr th {\n",
              "        vertical-align: top;\n",
              "    }\n",
              "\n",
              "    .dataframe thead th {\n",
              "        text-align: right;\n",
              "    }\n",
              "</style>\n",
              "<table border=\"1\" class=\"dataframe\">\n",
              "  <thead>\n",
              "    <tr style=\"text-align: right;\">\n",
              "      <th></th>\n",
              "      <th>i</th>\n",
              "      <th>svmLinear</th>\n",
              "      <th>svmGaussian</th>\n",
              "      <th>randomForest</th>\n",
              "      <th>No of features</th>\n",
              "    </tr>\n",
              "  </thead>\n",
              "  <tbody>\n",
              "    <tr>\n",
              "      <th>0</th>\n",
              "      <td>1.0000</td>\n",
              "      <td>0.763685</td>\n",
              "      <td>0.81959</td>\n",
              "      <td>0.800955</td>\n",
              "      <td>34.0</td>\n",
              "    </tr>\n",
              "    <tr>\n",
              "      <th>1</th>\n",
              "      <td>0.9975</td>\n",
              "      <td>0.763685</td>\n",
              "      <td>0.81959</td>\n",
              "      <td>0.800955</td>\n",
              "      <td>34.0</td>\n",
              "    </tr>\n",
              "    <tr>\n",
              "      <th>2</th>\n",
              "      <td>0.9950</td>\n",
              "      <td>0.763685</td>\n",
              "      <td>0.81959</td>\n",
              "      <td>0.800955</td>\n",
              "      <td>34.0</td>\n",
              "    </tr>\n",
              "    <tr>\n",
              "      <th>3</th>\n",
              "      <td>0.9925</td>\n",
              "      <td>0.763685</td>\n",
              "      <td>0.81959</td>\n",
              "      <td>0.800955</td>\n",
              "      <td>34.0</td>\n",
              "    </tr>\n",
              "    <tr>\n",
              "      <th>4</th>\n",
              "      <td>0.9900</td>\n",
              "      <td>0.763685</td>\n",
              "      <td>0.81959</td>\n",
              "      <td>0.800955</td>\n",
              "      <td>34.0</td>\n",
              "    </tr>\n",
              "  </tbody>\n",
              "</table>\n",
              "</div>"
            ],
            "text/plain": [
              "        i  svmLinear  svmGaussian  randomForest  No of features\n",
              "0  1.0000   0.763685      0.81959      0.800955            34.0\n",
              "1  0.9975   0.763685      0.81959      0.800955            34.0\n",
              "2  0.9950   0.763685      0.81959      0.800955            34.0\n",
              "3  0.9925   0.763685      0.81959      0.800955            34.0\n",
              "4  0.9900   0.763685      0.81959      0.800955            34.0"
            ]
          },
          "metadata": {
            "tags": []
          },
          "execution_count": 16
        }
      ]
    },
    {
      "cell_type": "code",
      "metadata": {
        "id": "_C4vnlgm5pZx",
        "colab_type": "code",
        "colab": {
          "base_uri": "https://localhost:8080/",
          "height": 403
        },
        "outputId": "2ddaab89-cecf-4660-f3fa-d08e1a400ad0"
      },
      "source": [
        "print(\"Max of svmLinear\")\n",
        "print(corrScore.loc[corrScore['svmLinear'].idxmax()])\n",
        "print(\"\\n Max of svmGussian\")\n",
        "print(corrScore.loc[corrScore['svmGaussian'].idxmax()])\n",
        "print(\"\\n Max of randomForest\")\n",
        "print(corrScore.loc[corrScore['randomForest'].idxmax()])"
      ],
      "execution_count": 17,
      "outputs": [
        {
          "output_type": "stream",
          "text": [
            "Max of svmLinear\n",
            "i                 0.605000\n",
            "svmLinear         0.838807\n",
            "svmGaussian       0.782553\n",
            "randomForest      0.807594\n",
            "No of features    4.000000\n",
            "Name: 158, dtype: float64\n",
            "\n",
            " Max of svmGussian\n",
            "i                 0.620000\n",
            "svmLinear         0.801188\n",
            "svmGaussian       0.863033\n",
            "randomForest      0.813650\n",
            "No of features    6.000000\n",
            "Name: 152, dtype: float64\n",
            "\n",
            " Max of randomForest\n",
            "i                 0.655000\n",
            "svmLinear         0.788842\n",
            "svmGaussian       0.838225\n",
            "randomForest      0.825879\n",
            "No of features    8.000000\n",
            "Name: 138, dtype: float64\n"
          ],
          "name": "stdout"
        }
      ]
    },
    {
      "cell_type": "markdown",
      "metadata": {
        "id": "ZwLS2rg1B5XH",
        "colab_type": "text"
      },
      "source": [
        "Max accuracy\n",
        "\n",
        "* SVM + Linear 0.9325 -> 93.25 -> 179\n",
        "* SVM + Gausin 0.7875 -> 91.91 ->  44\n",
        "* RF           0.7425 -> 90.05 ->  26"
      ]
    },
    {
      "cell_type": "markdown",
      "metadata": {
        "id": "J9I_fJLNa4gT",
        "colab_type": "text"
      },
      "source": [
        "Save gene symbols"
      ]
    },
    {
      "cell_type": "code",
      "metadata": {
        "id": "9vFcwqBMaxCo",
        "colab_type": "code",
        "colab": {}
      },
      "source": [
        "def saveFoundSymbols(df, name):\n",
        "  tmp_df = pd.DataFrame( df.columns)\n",
        "  # tmp_df.head()\n",
        "  tmp_df.to_pickle(\"drive/My Drive/FYP/Found genes/\" + name +\".pkl\")"
      ],
      "execution_count": 0,
      "outputs": []
    },
    {
      "cell_type": "markdown",
      "metadata": {
        "id": "do4yLIs2D1OC",
        "colab_type": "text"
      },
      "source": [
        "Compare training and testing accuracy"
      ]
    },
    {
      "cell_type": "code",
      "metadata": {
        "id": "zadc7SB2fXBe",
        "colab_type": "code",
        "colab": {}
      },
      "source": [
        "def printTop3ClassificationResults(X_train, X_test, y_train, y_test): \n",
        "    \n",
        "  svm_li_clf = svm.SVC(kernel='linear') # Linear Kernel\n",
        "  score_svm_li = cross_val_score(svm_li_clf, X_train, y_train, cv=3)\n",
        "  svm_li_clf.fit(X_train, y_train)\n",
        "\n",
        "  svm_rbf_clf = SVC(kernel=\"rbf\", gamma=\"auto\", C=1)\n",
        "  score_svm_rbf = cross_val_score(svm_rbf_clf, X_train, y_train, cv=3)\n",
        "  svm_rbf_clf.fit(X_train, y_train)\n",
        "  \n",
        "  RF_clf = RandomForestClassifier(n_estimators=100, max_depth=2,random_state=42)\n",
        "  score_RF = cross_val_score(RF_clf, X_train, y_train, cv=3)\n",
        "  RF_clf.fit(X_train, y_train)\n",
        "\n",
        "  y_pred_svm_li = svm_li_clf.predict(X_test)\n",
        "  y_pred_svm_rbf = svm_rbf_clf.predict(X_test)\n",
        "  y_pred_RF = RF_clf.predict(X_test)\n",
        "\n",
        "  # y_pred_svm_li_tr = svm_li_clf.predict(X_train)\n",
        "  # y_pred_svm_rbf_tr = svm_rbf_clf.predict(X_train)\n",
        "  # y_pred_RF_tr = RF_clf.predict(X_train)\n",
        "    \n",
        "  # comparing actual response values (y_test) with predicted response values (y_pred) \n",
        "  print(\"\\t\\t\\t\\t\\t\\t Testing\\t Training\")\n",
        "  print(\"SVM + Gaussian kernel model accuracy(in %) \\t:\" , round(metrics.accuracy_score(np.int64(y_test.values), y_pred_svm_rbf)*100,2) ,\"\\t\", round(score_svm_rbf.mean()*100,2))\n",
        "  print(\"SVM + linear kerne model accuracy(in %) \\t:\" , round(metrics.accuracy_score(np.int64(y_test.values), y_pred_svm_li)*100,2) ,\"\\t\", round(score_svm_li.mean()*100,2))\n",
        "  print(\"Random forest model accuracy(in %) \\t\\t:\" , round(metrics.accuracy_score(np.int64(y_test.values), y_pred_RF)*100,2) ,\"\\t\", round(score_svm_li.mean()*100,2))\n",
        "\n",
        "\n",
        "def getTop3ClassificationResults(X_train, X_test, y_train, y_test):\n",
        "  svm_li_clf = svm.SVC(kernel='linear') # Linear Kernel\n",
        "  score_svm_li = cross_val_score(svm_li_clf, X_train, y_train, cv=3)\n",
        "  svm_li_clf.fit(X_train, y_train)\n",
        "\n",
        "  svm_rbf_clf = SVC(kernel=\"rbf\", gamma=\"auto\", C=1)\n",
        "  score_svm_rbf = cross_val_score(svm_rbf_clf, X_train, y_train, cv=3)\n",
        "  svm_rbf_clf.fit(X_train, y_train)\n",
        "  \n",
        "  RF_clf = RandomForestClassifier(n_estimators=100, max_depth=2,random_state=42)\n",
        "  score_RF = cross_val_score(RF_clf, X_train, y_train, cv=3)\n",
        "  RF_clf.fit(X_train, y_train)\n",
        "\n",
        "  y_pred_svm_li = svm_li_clf.predict(X_test)\n",
        "  y_pred_svm_rbf = svm_rbf_clf.predict(X_test)\n",
        "  y_pred_RF = RF_clf.predict(X_test)\n",
        "\n",
        "  m = np.array([[round(metrics.accuracy_score(np.int64(y_test.values), y_pred_svm_rbf)*100,2) , round(score_svm_rbf.mean()*100,2)], \n",
        "                [round(metrics.accuracy_score(np.int64(y_test.values), y_pred_svm_li)*100,2) , round(score_svm_li.mean()*100,2)],\n",
        "                [round(metrics.accuracy_score(np.int64(y_test.values), y_pred_RF)*100,2) , round(score_svm_li.mean()*100,2)]])\n",
        "  \n",
        "  return m\n"
      ],
      "execution_count": 0,
      "outputs": []
    },
    {
      "cell_type": "markdown",
      "metadata": {
        "id": "SQXxI55uNB5-",
        "colab_type": "text"
      },
      "source": [
        "ROC curves "
      ]
    },
    {
      "cell_type": "code",
      "metadata": {
        "id": "F0vYFiY2LVkH",
        "colab_type": "code",
        "colab": {}
      },
      "source": [
        "from sklearn.multiclass import OneVsRestClassifier\n",
        "from sklearn.metrics import roc_curve, auc\n",
        "from sklearn.metrics import roc_auc_score\n",
        "\n",
        "def getROC(X_train, X_test, y_train, y_test):\n",
        "\n",
        "  classifier_SVM_li = OneVsRestClassifier(svm.SVC(kernel='linear', probability=True,\n",
        "                                  random_state=42))\n",
        "  classifier_SVM_gu = OneVsRestClassifier(svm.SVC(kernel='rbf', probability=True,\n",
        "                                  random_state=42))\n",
        "  classifier_RF = RandomForestClassifier(n_estimators=100, max_depth=2,random_state=42)\n",
        "\n",
        "  y_score_SVM_li = classifier_SVM_li.fit(X_train, y_train).decision_function(X_test)\n",
        "  y_score_SVM_gu = classifier_SVM_gu.fit(X_train, y_train).decision_function(X_test)\n",
        "  y_score_SVM_RF = classifier_RF.fit(X_train, y_train)\n",
        "\n",
        "  fpr_li, tpr_li, _ = roc_curve(np.int64(y_test.ravel()), y_score_SVM_li.ravel())\n",
        "  fpr_gu, tpr_gu, _ = roc_curve(np.int64(y_test.ravel()), y_score_SVM_gu.ravel())\n",
        "\n",
        "  roc_auc_li = auc(fpr_li, tpr_li)\n",
        "  roc_auc_gu = auc(fpr_gu, tpr_gu)\n",
        "\n",
        "  y_pred_proba_RF = classifier_RF.predict_proba(X_test)[::,1]\n",
        "  fpr_RF, tpr_RF, _ = metrics.roc_curve(np.int64(y_test.values),  y_pred_proba_RF)\n",
        "  roc_auc_RF = metrics.roc_auc_score(np.int64(y_test.values), y_pred_proba_RF)\n",
        "\n",
        "  plt.plot(fpr_li,tpr_li,label=\"SVM linear, auc=\"+str(round(roc_auc_li,2)))\n",
        "  plt.plot(fpr_gu,tpr_gu,label=\"SVM gaussian, auc=\"+str(round(roc_auc_gu,2)))\n",
        "  plt.plot(fpr_RF,tpr_RF,label=\"Random forest, auc=\"+str(round(roc_auc_RF,2)))\n",
        "\n",
        "  plt.ylabel(\"Sensitivity\")\n",
        "  plt.xlabel(\"1 - Specificity\")\n",
        "\n",
        "  plt.legend(loc=\"lower right\")"
      ],
      "execution_count": 0,
      "outputs": []
    },
    {
      "cell_type": "markdown",
      "metadata": {
        "id": "v1zK8QalIswV",
        "colab_type": "text"
      },
      "source": [
        "1 SVM linear"
      ]
    },
    {
      "cell_type": "code",
      "metadata": {
        "id": "xNO6pKwMBk6V",
        "colab_type": "code",
        "colab": {}
      },
      "source": [
        "# df_tmp.columns"
      ],
      "execution_count": 0,
      "outputs": []
    },
    {
      "cell_type": "code",
      "metadata": {
        "id": "G0y-ftrKjJXM",
        "colab_type": "code",
        "colab": {
          "base_uri": "https://localhost:8080/",
          "height": 684
        },
        "outputId": "2d4edf0b-bdbc-446a-fbf4-2564b7af71e4"
      },
      "source": [
        "# SVM linear\n",
        "df_tmp = X\n",
        "df_tmp = getSelectedDF(df_tmp, df_tmp.corr(), 0.605)\n",
        "print(df_tmp.shape)\n",
        "sns.heatmap(df_tmp.corr(), cmap=\"RdYlGn\")\n",
        "\n",
        "X_train, X_test, y_train, y_test = train_test_split(df_tmp, y, test_size=0.3, random_state=42) \n",
        "printTop3ClassificationResults(X_train, X_test, y_train, y_test) #same dataset\n",
        "\n",
        "# X_Test = df_Test[df_tmp.columns]\n",
        "# y_Test = df_Test[\"class\"]\n",
        "# printTop3ClassificationResults(df_tmp, X_Test, y, y_Test) #other dataset\n",
        "\n",
        "fig2 = plt.subplots(nrows=1, ncols=1) # two axes on figure\n",
        "\n",
        "getROC(X_train, X_test, y_train, y_test)\n",
        "# getROC(df_tmp, X_Test, y, y_Test)\n",
        "\n",
        "#save columns\n",
        "# saveFoundSymbols(df_tmp,\"brain_corr_179\")"
      ],
      "execution_count": 22,
      "outputs": [
        {
          "output_type": "stream",
          "text": [
            "(161, 6)\n",
            "\t\t\t\t\t\t Testing\t Training\n",
            "SVM + Gaussian kernel model accuracy(in %) \t: 91.84 \t 84.8\n",
            "SVM + linear kerne model accuracy(in %) \t: 95.92 \t 80.3\n",
            "Random forest model accuracy(in %) \t\t: 91.84 \t 80.3\n"
          ],
          "name": "stdout"
        },
        {
          "output_type": "display_data",
          "data": {
            "image/png": "[encoded data removed]",
            "text/plain": [
              "<Figure size 432x288 with 2 Axes>"
            ]
          },
          "metadata": {
            "tags": []
          }
        },
        {
          "output_type": "display_data",
          "data": {
            "image/png": "[encoded data removed]",
            "text/plain": [
              "<Figure size 432x288 with 1 Axes>"
            ]
          },
          "metadata": {
            "tags": []
          }
        }
      ]
    },
    {
      "cell_type": "markdown",
      "metadata": {
        "id": "M_vQ4UZaJHEF",
        "colab_type": "text"
      },
      "source": [
        "2 SVM Gaussian"
      ]
    },
    {
      "cell_type": "code",
      "metadata": {
        "id": "3RmgamAoIz9v",
        "colab_type": "code",
        "colab": {
          "base_uri": "https://localhost:8080/",
          "height": 684
        },
        "outputId": "d42a70ea-c37e-40d4-ba10-b71a1d975143"
      },
      "source": [
        "df_tmp = X\n",
        "df_tmp = getSelectedDF(df_tmp, df_tmp.corr(), 0.620)\n",
        "print(df_tmp.shape)\n",
        "sns.heatmap(df_tmp.corr(), cmap=\"RdYlGn\")\n",
        "\n",
        "X_train, X_test, y_train, y_test = train_test_split(df_tmp, y, test_size=0.3, random_state=42) \n",
        "printTop3ClassificationResults(X_train, X_test, y_train, y_test) #same dataset\n",
        "\n",
        "# X_Test = df_Test[df_tmp.columns]\n",
        "# y_Test = df_Test[\"class\"]\n",
        "# printTop3ClassificationResults(df_tmp, X_Test, y, y_Test) #other dataset\n",
        "\n",
        "fig2 = plt.subplots(nrows=1, ncols=1) # two axes on figure\n",
        "\n",
        "getROC(X_train, X_test, y_train, y_test)\n",
        "# getROC(df_tmp, X_Test, y, y_Test)\n",
        "\n",
        "# saveFoundSymbols(df_tmp,\"brain_corr_44\")"
      ],
      "execution_count": 23,
      "outputs": [
        {
          "output_type": "stream",
          "text": [
            "(161, 6)\n",
            "\t\t\t\t\t\t Testing\t Training\n",
            "SVM + Gaussian kernel model accuracy(in %) \t: 91.84 \t 84.8\n",
            "SVM + linear kerne model accuracy(in %) \t: 95.92 \t 80.3\n",
            "Random forest model accuracy(in %) \t\t: 91.84 \t 80.3\n"
          ],
          "name": "stdout"
        },
        {
          "output_type": "display_data",
          "data": {
            "image/png": "[encoded data removed]",
            "text/plain": [
              "<Figure size 432x288 with 2 Axes>"
            ]
          },
          "metadata": {
            "tags": []
          }
        },
        {
          "output_type": "display_data",
          "data": {
            "image/png": "[encoded data removed]",
            "text/plain": [
              "<Figure size 432x288 with 1 Axes>"
            ]
          },
          "metadata": {
            "tags": []
          }
        }
      ]
    },
    {
      "cell_type": "markdown",
      "metadata": {
        "id": "xrput1d6JOdw",
        "colab_type": "text"
      },
      "source": [
        "3 Random Forest"
      ]
    },
    {
      "cell_type": "code",
      "metadata": {
        "id": "8aPIjnGtJTfC",
        "colab_type": "code",
        "colab": {
          "base_uri": "https://localhost:8080/",
          "height": 698
        },
        "outputId": "16fed748-602a-48d2-9aa2-fc8dba8b2d20"
      },
      "source": [
        "df_tmp = X\n",
        "df_tmp = getSelectedDF(df_tmp, df_tmp.corr(), 0.655)\n",
        "print(df_tmp.shape)\n",
        "# plt.figure(figsize=(15,15))\n",
        "g = sns.heatmap(df_tmp.corr(), cmap=\"RdYlGn\")\n",
        "\n",
        "# figure = g.get_figure()    \n",
        "# figure.savefig('drive/My Drive/FYP/plots/PCA9_heatmap.png', dpi=400)\n",
        "\n",
        "X_train, X_test, y_train, y_test = train_test_split(df_tmp, y, test_size=0.3, random_state=42) \n",
        "printTop3ClassificationResults(X_train, X_test, y_train, y_test) #same dataset\n",
        "\n",
        "# X_Test = df_Test[df_tmp.columns]\n",
        "# y_Test = df_Test[\"class\"]\n",
        "# printTop3ClassificationResults(df_tmp, X_Test, y, y_Test) #other dataset\n",
        "\n",
        "fig2 = plt.subplots(nrows=1, ncols=1) # two axes on figure\n",
        "\n",
        "getROC(X_train, X_test, y_train, y_test)\n",
        "plt.savefig('drive/My Drive/FYP/plots/roc9.png', dpi=400)\n",
        "# getROC(df_tmp, X_Test, y, y_Test)\n",
        "\n",
        "# saveFoundSymbols(df_tmp,\"brain_corr_26\")"
      ],
      "execution_count": 70,
      "outputs": [
        {
          "output_type": "stream",
          "text": [
            "(161, 9)\n",
            "\t\t\t\t\t\t Testing\t Training\n",
            "SVM + Gaussian kernel model accuracy(in %) \t: 93.88 \t 84.8\n",
            "SVM + linear kerne model accuracy(in %) \t: 93.88 \t 85.63\n",
            "Random forest model accuracy(in %) \t\t: 91.84 \t 85.63\n"
          ],
          "name": "stdout"
        },
        {
          "output_type": "display_data",
          "data": {
            "image/png": "[encoded data removed]",
            "text/plain": [
              "<Figure size 432x288 with 2 Axes>"
            ]
          },
          "metadata": {
            "tags": []
          }
        },
        {
          "output_type": "display_data",
          "data": {
            "image/png": "[encoded data removed]",
            "text/plain": [
              "<Figure size 432x288 with 1 Axes>"
            ]
          },
          "metadata": {
            "tags": []
          }
        }
      ]
    },
    {
      "cell_type": "code",
      "metadata": {
        "id": "_AWZS3K5WXV_",
        "colab_type": "code",
        "colab": {}
      },
      "source": [
        "final_pca_col = df_tmp.columns.values.tolist()"
      ],
      "execution_count": 0,
      "outputs": []
    },
    {
      "cell_type": "code",
      "metadata": {
        "id": "jMfIR7lNfuoc",
        "colab_type": "code",
        "colab": {}
      },
      "source": [
        "from sklearn.model_selection import train_test_split \n",
        "\n",
        "from sklearn.tree import DecisionTreeClassifier # Import Decision Tree Classifier\n",
        "from sklearn.naive_bayes import GaussianNB \n",
        "from sklearn.neighbors import KNeighborsClassifier\n",
        "\n",
        "from sklearn import metrics\n",
        "\n",
        "from nltk.classify.scikitlearn import SklearnClassifier \n",
        "from sklearn.model_selection import cross_val_score\n",
        "\n",
        "from sklearn import svm"
      ],
      "execution_count": 0,
      "outputs": []
    },
    {
      "cell_type": "code",
      "metadata": {
        "id": "ZPuPI-17f3tZ",
        "colab_type": "code",
        "colab": {
          "base_uri": "https://localhost:8080/",
          "height": 261
        },
        "outputId": "0e43528b-32b7-41ad-8032-989918b12a6d"
      },
      "source": [
        "df_Test = pd.read_pickle(\"drive/My Drive/FYP/dataset/GSE84422/GSE84422_24438_Test_set.plk\")\n",
        "df_Test.head()"
      ],
      "execution_count": 27,
      "outputs": [
        {
          "output_type": "execute_result",
          "data": {
            "text/html": [
              "<div>\n",
              "<style scoped>\n",
              "    .dataframe tbody tr th:only-of-type {\n",
              "        vertical-align: middle;\n",
              "    }\n",
              "\n",
              "    .dataframe tbody tr th {\n",
              "        vertical-align: top;\n",
              "    }\n",
              "\n",
              "    .dataframe thead th {\n",
              "        text-align: right;\n",
              "    }\n",
              "</style>\n",
              "<table border=\"1\" class=\"dataframe\">\n",
              "  <thead>\n",
              "    <tr style=\"text-align: right;\">\n",
              "      <th></th>\n",
              "      <th>Unidentified</th>\n",
              "      <th>A1BG</th>\n",
              "      <th>A1BG-AS1</th>\n",
              "      <th>A1CF</th>\n",
              "      <th>A2M</th>\n",
              "      <th>A2M-AS1</th>\n",
              "      <th>A2ML1</th>\n",
              "      <th>A2MP1</th>\n",
              "      <th>A4GALT</th>\n",
              "      <th>A4GNT</th>\n",
              "      <th>AA06</th>\n",
              "      <th>AAAS</th>\n",
              "      <th>AACS</th>\n",
              "      <th>AACSP1</th>\n",
              "      <th>AADAC</th>\n",
              "      <th>AADACL2</th>\n",
              "      <th>AADACP1</th>\n",
              "      <th>AADAT</th>\n",
              "      <th>AAED1</th>\n",
              "      <th>AAGAB</th>\n",
              "      <th>AAK1</th>\n",
              "      <th>AAMDC</th>\n",
              "      <th>AAMP</th>\n",
              "      <th>AANAT</th>\n",
              "      <th>AAR2</th>\n",
              "      <th>AARS</th>\n",
              "      <th>AARS2</th>\n",
              "      <th>AARSD1</th>\n",
              "      <th>AASDH</th>\n",
              "      <th>AASDHPPT</th>\n",
              "      <th>AASS</th>\n",
              "      <th>AATF</th>\n",
              "      <th>AATK</th>\n",
              "      <th>AB074162</th>\n",
              "      <th>AB488780</th>\n",
              "      <th>ABAT</th>\n",
              "      <th>ABCA1</th>\n",
              "      <th>ABCA11P</th>\n",
              "      <th>ABCA12</th>\n",
              "      <th>ABCA13</th>\n",
              "      <th>...</th>\n",
              "      <th>ZSCAN12P1</th>\n",
              "      <th>ZSCAN16</th>\n",
              "      <th>ZSCAN16-AS1</th>\n",
              "      <th>ZSCAN18</th>\n",
              "      <th>ZSCAN2</th>\n",
              "      <th>ZSCAN20</th>\n",
              "      <th>ZSCAN21</th>\n",
              "      <th>ZSCAN22</th>\n",
              "      <th>ZSCAN23</th>\n",
              "      <th>ZSCAN25</th>\n",
              "      <th>ZSCAN26</th>\n",
              "      <th>ZSCAN29</th>\n",
              "      <th>ZSCAN30</th>\n",
              "      <th>ZSCAN31</th>\n",
              "      <th>ZSCAN32</th>\n",
              "      <th>ZSCAN4</th>\n",
              "      <th>ZSCAN5A</th>\n",
              "      <th>ZSCAN9</th>\n",
              "      <th>ZSWIM1</th>\n",
              "      <th>ZSWIM2</th>\n",
              "      <th>ZSWIM3</th>\n",
              "      <th>ZSWIM4</th>\n",
              "      <th>ZSWIM5</th>\n",
              "      <th>ZSWIM6</th>\n",
              "      <th>ZSWIM7</th>\n",
              "      <th>ZSWIM8</th>\n",
              "      <th>ZSWIM8-AS1</th>\n",
              "      <th>ZUFSP</th>\n",
              "      <th>ZW10</th>\n",
              "      <th>ZWILCH</th>\n",
              "      <th>ZWINT</th>\n",
              "      <th>ZXDA</th>\n",
              "      <th>ZXDB</th>\n",
              "      <th>ZXDC</th>\n",
              "      <th>ZYG11A</th>\n",
              "      <th>ZYG11B</th>\n",
              "      <th>ZYX</th>\n",
              "      <th>ZZEF1</th>\n",
              "      <th>ZZZ3</th>\n",
              "      <th>class</th>\n",
              "    </tr>\n",
              "  </thead>\n",
              "  <tbody>\n",
              "    <tr>\n",
              "      <th>GSM2233519</th>\n",
              "      <td>9.044155</td>\n",
              "      <td>3.072017</td>\n",
              "      <td>2.824990</td>\n",
              "      <td>2.065189</td>\n",
              "      <td>5.577840</td>\n",
              "      <td>2.215263</td>\n",
              "      <td>2.041750</td>\n",
              "      <td>1.501308</td>\n",
              "      <td>2.404777</td>\n",
              "      <td>1.444681</td>\n",
              "      <td>2.505343</td>\n",
              "      <td>3.963773</td>\n",
              "      <td>6.892670</td>\n",
              "      <td>1.871970</td>\n",
              "      <td>1.735989</td>\n",
              "      <td>1.361680</td>\n",
              "      <td>1.868899</td>\n",
              "      <td>3.469376</td>\n",
              "      <td>4.488530</td>\n",
              "      <td>3.579794</td>\n",
              "      <td>5.424184</td>\n",
              "      <td>4.497863</td>\n",
              "      <td>5.608313</td>\n",
              "      <td>1.879048</td>\n",
              "      <td>3.503840</td>\n",
              "      <td>8.723356</td>\n",
              "      <td>4.324236</td>\n",
              "      <td>4.048352</td>\n",
              "      <td>5.758908</td>\n",
              "      <td>6.424605</td>\n",
              "      <td>3.341448</td>\n",
              "      <td>6.568828</td>\n",
              "      <td>5.440441</td>\n",
              "      <td>2.690844</td>\n",
              "      <td>3.953657</td>\n",
              "      <td>8.484479</td>\n",
              "      <td>4.281676</td>\n",
              "      <td>3.933419</td>\n",
              "      <td>2.115783</td>\n",
              "      <td>1.448033</td>\n",
              "      <td>...</td>\n",
              "      <td>1.769994</td>\n",
              "      <td>3.140786</td>\n",
              "      <td>2.829476</td>\n",
              "      <td>4.838955</td>\n",
              "      <td>2.498795</td>\n",
              "      <td>2.039017</td>\n",
              "      <td>4.550174</td>\n",
              "      <td>2.089996</td>\n",
              "      <td>1.893957</td>\n",
              "      <td>2.619289</td>\n",
              "      <td>4.573122</td>\n",
              "      <td>6.747883</td>\n",
              "      <td>2.931090</td>\n",
              "      <td>5.692332</td>\n",
              "      <td>2.986864</td>\n",
              "      <td>1.474619</td>\n",
              "      <td>2.365860</td>\n",
              "      <td>2.344316</td>\n",
              "      <td>3.161656</td>\n",
              "      <td>1.595761</td>\n",
              "      <td>2.520880</td>\n",
              "      <td>2.642704</td>\n",
              "      <td>2.081881</td>\n",
              "      <td>8.619722</td>\n",
              "      <td>5.171381</td>\n",
              "      <td>3.661470</td>\n",
              "      <td>2.074433</td>\n",
              "      <td>4.748661</td>\n",
              "      <td>3.294375</td>\n",
              "      <td>4.094290</td>\n",
              "      <td>3.129125</td>\n",
              "      <td>2.389375</td>\n",
              "      <td>2.929552</td>\n",
              "      <td>3.594786</td>\n",
              "      <td>1.785258</td>\n",
              "      <td>8.511714</td>\n",
              "      <td>4.389656</td>\n",
              "      <td>3.695417</td>\n",
              "      <td>5.302495</td>\n",
              "      <td>0</td>\n",
              "    </tr>\n",
              "    <tr>\n",
              "      <th>GSM2233520</th>\n",
              "      <td>8.959608</td>\n",
              "      <td>2.996954</td>\n",
              "      <td>3.096580</td>\n",
              "      <td>1.884293</td>\n",
              "      <td>4.992982</td>\n",
              "      <td>2.638350</td>\n",
              "      <td>1.950359</td>\n",
              "      <td>1.380743</td>\n",
              "      <td>2.016256</td>\n",
              "      <td>1.434748</td>\n",
              "      <td>2.235703</td>\n",
              "      <td>3.918965</td>\n",
              "      <td>7.444215</td>\n",
              "      <td>1.838379</td>\n",
              "      <td>1.553344</td>\n",
              "      <td>1.805002</td>\n",
              "      <td>1.452866</td>\n",
              "      <td>3.114830</td>\n",
              "      <td>4.085929</td>\n",
              "      <td>3.627193</td>\n",
              "      <td>5.871913</td>\n",
              "      <td>4.072274</td>\n",
              "      <td>5.764436</td>\n",
              "      <td>1.777712</td>\n",
              "      <td>3.887493</td>\n",
              "      <td>9.060799</td>\n",
              "      <td>4.017485</td>\n",
              "      <td>4.456306</td>\n",
              "      <td>5.452443</td>\n",
              "      <td>6.670231</td>\n",
              "      <td>3.328393</td>\n",
              "      <td>6.411521</td>\n",
              "      <td>6.015084</td>\n",
              "      <td>2.257711</td>\n",
              "      <td>3.801619</td>\n",
              "      <td>8.476843</td>\n",
              "      <td>3.545012</td>\n",
              "      <td>4.061877</td>\n",
              "      <td>1.678724</td>\n",
              "      <td>1.334206</td>\n",
              "      <td>...</td>\n",
              "      <td>2.068001</td>\n",
              "      <td>3.096813</td>\n",
              "      <td>2.688523</td>\n",
              "      <td>4.705133</td>\n",
              "      <td>2.414472</td>\n",
              "      <td>1.942822</td>\n",
              "      <td>4.663277</td>\n",
              "      <td>1.839193</td>\n",
              "      <td>1.621629</td>\n",
              "      <td>2.424505</td>\n",
              "      <td>4.359903</td>\n",
              "      <td>6.380233</td>\n",
              "      <td>2.871375</td>\n",
              "      <td>5.820227</td>\n",
              "      <td>3.106068</td>\n",
              "      <td>1.944481</td>\n",
              "      <td>2.307672</td>\n",
              "      <td>1.968953</td>\n",
              "      <td>2.815717</td>\n",
              "      <td>1.358510</td>\n",
              "      <td>2.589590</td>\n",
              "      <td>2.402739</td>\n",
              "      <td>2.598411</td>\n",
              "      <td>8.455396</td>\n",
              "      <td>4.830576</td>\n",
              "      <td>3.490265</td>\n",
              "      <td>1.924308</td>\n",
              "      <td>5.790361</td>\n",
              "      <td>3.365461</td>\n",
              "      <td>3.863248</td>\n",
              "      <td>3.727503</td>\n",
              "      <td>2.453501</td>\n",
              "      <td>3.107153</td>\n",
              "      <td>3.703465</td>\n",
              "      <td>1.754772</td>\n",
              "      <td>9.010627</td>\n",
              "      <td>4.453835</td>\n",
              "      <td>3.434747</td>\n",
              "      <td>5.653710</td>\n",
              "      <td>0</td>\n",
              "    </tr>\n",
              "    <tr>\n",
              "      <th>GSM2233521</th>\n",
              "      <td>8.784124</td>\n",
              "      <td>2.511153</td>\n",
              "      <td>3.270180</td>\n",
              "      <td>1.754349</td>\n",
              "      <td>5.721240</td>\n",
              "      <td>2.191464</td>\n",
              "      <td>1.846016</td>\n",
              "      <td>1.421783</td>\n",
              "      <td>2.114718</td>\n",
              "      <td>1.479871</td>\n",
              "      <td>2.983059</td>\n",
              "      <td>3.819845</td>\n",
              "      <td>6.439003</td>\n",
              "      <td>1.969160</td>\n",
              "      <td>2.006933</td>\n",
              "      <td>1.696476</td>\n",
              "      <td>1.329862</td>\n",
              "      <td>3.058493</td>\n",
              "      <td>4.158520</td>\n",
              "      <td>3.612699</td>\n",
              "      <td>5.180524</td>\n",
              "      <td>4.385223</td>\n",
              "      <td>5.432976</td>\n",
              "      <td>1.735408</td>\n",
              "      <td>3.897919</td>\n",
              "      <td>8.617239</td>\n",
              "      <td>4.025686</td>\n",
              "      <td>3.876531</td>\n",
              "      <td>5.355692</td>\n",
              "      <td>6.161612</td>\n",
              "      <td>4.030977</td>\n",
              "      <td>7.261300</td>\n",
              "      <td>5.595897</td>\n",
              "      <td>2.251395</td>\n",
              "      <td>3.643892</td>\n",
              "      <td>8.299296</td>\n",
              "      <td>4.522146</td>\n",
              "      <td>3.980303</td>\n",
              "      <td>1.717350</td>\n",
              "      <td>1.332983</td>\n",
              "      <td>...</td>\n",
              "      <td>1.592877</td>\n",
              "      <td>3.106882</td>\n",
              "      <td>2.842084</td>\n",
              "      <td>4.604339</td>\n",
              "      <td>2.464175</td>\n",
              "      <td>1.954802</td>\n",
              "      <td>4.557596</td>\n",
              "      <td>2.283059</td>\n",
              "      <td>1.515758</td>\n",
              "      <td>2.949451</td>\n",
              "      <td>4.569438</td>\n",
              "      <td>6.996778</td>\n",
              "      <td>2.904419</td>\n",
              "      <td>4.608671</td>\n",
              "      <td>3.269424</td>\n",
              "      <td>1.714501</td>\n",
              "      <td>2.223092</td>\n",
              "      <td>2.220465</td>\n",
              "      <td>3.006230</td>\n",
              "      <td>1.416930</td>\n",
              "      <td>2.771065</td>\n",
              "      <td>2.744808</td>\n",
              "      <td>2.244950</td>\n",
              "      <td>8.246307</td>\n",
              "      <td>4.649831</td>\n",
              "      <td>3.443263</td>\n",
              "      <td>1.994785</td>\n",
              "      <td>4.768015</td>\n",
              "      <td>3.560918</td>\n",
              "      <td>3.647547</td>\n",
              "      <td>3.886943</td>\n",
              "      <td>2.568676</td>\n",
              "      <td>2.833934</td>\n",
              "      <td>3.502000</td>\n",
              "      <td>1.609128</td>\n",
              "      <td>8.345690</td>\n",
              "      <td>5.283891</td>\n",
              "      <td>3.537020</td>\n",
              "      <td>5.510727</td>\n",
              "      <td>0</td>\n",
              "    </tr>\n",
              "    <tr>\n",
              "      <th>GSM2233522</th>\n",
              "      <td>9.234508</td>\n",
              "      <td>2.706079</td>\n",
              "      <td>3.373257</td>\n",
              "      <td>1.898479</td>\n",
              "      <td>5.607310</td>\n",
              "      <td>2.692713</td>\n",
              "      <td>2.043493</td>\n",
              "      <td>1.553732</td>\n",
              "      <td>2.446760</td>\n",
              "      <td>1.659020</td>\n",
              "      <td>2.783587</td>\n",
              "      <td>3.700068</td>\n",
              "      <td>6.319433</td>\n",
              "      <td>2.266290</td>\n",
              "      <td>1.694724</td>\n",
              "      <td>1.575366</td>\n",
              "      <td>1.392815</td>\n",
              "      <td>2.889979</td>\n",
              "      <td>4.231717</td>\n",
              "      <td>3.257291</td>\n",
              "      <td>5.096457</td>\n",
              "      <td>4.351537</td>\n",
              "      <td>5.346287</td>\n",
              "      <td>1.927604</td>\n",
              "      <td>3.374892</td>\n",
              "      <td>8.076511</td>\n",
              "      <td>3.963089</td>\n",
              "      <td>3.989591</td>\n",
              "      <td>5.307429</td>\n",
              "      <td>6.065067</td>\n",
              "      <td>3.449096</td>\n",
              "      <td>6.464528</td>\n",
              "      <td>5.192950</td>\n",
              "      <td>2.250689</td>\n",
              "      <td>3.513444</td>\n",
              "      <td>8.767034</td>\n",
              "      <td>4.841747</td>\n",
              "      <td>4.114639</td>\n",
              "      <td>1.650710</td>\n",
              "      <td>1.533277</td>\n",
              "      <td>...</td>\n",
              "      <td>1.783942</td>\n",
              "      <td>3.877381</td>\n",
              "      <td>2.781857</td>\n",
              "      <td>4.735636</td>\n",
              "      <td>2.581531</td>\n",
              "      <td>1.897344</td>\n",
              "      <td>4.430154</td>\n",
              "      <td>1.994494</td>\n",
              "      <td>1.891443</td>\n",
              "      <td>2.727224</td>\n",
              "      <td>4.300297</td>\n",
              "      <td>6.710980</td>\n",
              "      <td>2.955361</td>\n",
              "      <td>4.325035</td>\n",
              "      <td>2.851391</td>\n",
              "      <td>1.732214</td>\n",
              "      <td>2.297550</td>\n",
              "      <td>2.239736</td>\n",
              "      <td>2.630050</td>\n",
              "      <td>1.518432</td>\n",
              "      <td>2.673382</td>\n",
              "      <td>2.797134</td>\n",
              "      <td>2.570233</td>\n",
              "      <td>8.194051</td>\n",
              "      <td>4.678192</td>\n",
              "      <td>3.487601</td>\n",
              "      <td>2.103578</td>\n",
              "      <td>5.000129</td>\n",
              "      <td>2.790541</td>\n",
              "      <td>3.390002</td>\n",
              "      <td>2.906401</td>\n",
              "      <td>2.605628</td>\n",
              "      <td>3.053699</td>\n",
              "      <td>3.567545</td>\n",
              "      <td>1.775008</td>\n",
              "      <td>8.195992</td>\n",
              "      <td>4.764692</td>\n",
              "      <td>3.423336</td>\n",
              "      <td>4.979753</td>\n",
              "      <td>0</td>\n",
              "    </tr>\n",
              "    <tr>\n",
              "      <th>GSM2233523</th>\n",
              "      <td>9.354675</td>\n",
              "      <td>2.673462</td>\n",
              "      <td>3.143588</td>\n",
              "      <td>1.802677</td>\n",
              "      <td>6.001692</td>\n",
              "      <td>2.602865</td>\n",
              "      <td>1.975981</td>\n",
              "      <td>1.452297</td>\n",
              "      <td>2.148960</td>\n",
              "      <td>1.498554</td>\n",
              "      <td>2.253164</td>\n",
              "      <td>4.010297</td>\n",
              "      <td>6.869153</td>\n",
              "      <td>1.848501</td>\n",
              "      <td>1.919735</td>\n",
              "      <td>1.624205</td>\n",
              "      <td>1.782204</td>\n",
              "      <td>2.569579</td>\n",
              "      <td>5.487395</td>\n",
              "      <td>3.795618</td>\n",
              "      <td>5.603097</td>\n",
              "      <td>4.239554</td>\n",
              "      <td>6.141683</td>\n",
              "      <td>1.867129</td>\n",
              "      <td>4.435234</td>\n",
              "      <td>8.950110</td>\n",
              "      <td>3.630639</td>\n",
              "      <td>3.622910</td>\n",
              "      <td>5.084656</td>\n",
              "      <td>6.076205</td>\n",
              "      <td>3.439249</td>\n",
              "      <td>6.606084</td>\n",
              "      <td>4.995989</td>\n",
              "      <td>2.347619</td>\n",
              "      <td>3.059580</td>\n",
              "      <td>8.295324</td>\n",
              "      <td>4.336174</td>\n",
              "      <td>3.664946</td>\n",
              "      <td>1.727649</td>\n",
              "      <td>1.733624</td>\n",
              "      <td>...</td>\n",
              "      <td>1.992778</td>\n",
              "      <td>2.679814</td>\n",
              "      <td>2.768496</td>\n",
              "      <td>4.964078</td>\n",
              "      <td>2.322192</td>\n",
              "      <td>1.904150</td>\n",
              "      <td>4.312696</td>\n",
              "      <td>2.275588</td>\n",
              "      <td>1.880912</td>\n",
              "      <td>2.510787</td>\n",
              "      <td>4.944768</td>\n",
              "      <td>6.393119</td>\n",
              "      <td>2.818187</td>\n",
              "      <td>4.543641</td>\n",
              "      <td>2.802485</td>\n",
              "      <td>1.942857</td>\n",
              "      <td>2.332258</td>\n",
              "      <td>2.182676</td>\n",
              "      <td>3.153641</td>\n",
              "      <td>1.582202</td>\n",
              "      <td>2.683703</td>\n",
              "      <td>2.256611</td>\n",
              "      <td>2.417200</td>\n",
              "      <td>8.005952</td>\n",
              "      <td>4.725672</td>\n",
              "      <td>3.563150</td>\n",
              "      <td>2.149072</td>\n",
              "      <td>4.702666</td>\n",
              "      <td>3.265113</td>\n",
              "      <td>3.729700</td>\n",
              "      <td>3.677193</td>\n",
              "      <td>2.412648</td>\n",
              "      <td>2.750144</td>\n",
              "      <td>3.534609</td>\n",
              "      <td>1.826739</td>\n",
              "      <td>8.472074</td>\n",
              "      <td>6.223212</td>\n",
              "      <td>3.768826</td>\n",
              "      <td>5.062018</td>\n",
              "      <td>0</td>\n",
              "    </tr>\n",
              "  </tbody>\n",
              "</table>\n",
              "<p>5 rows × 24438 columns</p>\n",
              "</div>"
            ],
            "text/plain": [
              "            Unidentified      A1BG  A1BG-AS1  ...     ZZEF1      ZZZ3  class\n",
              "GSM2233519      9.044155  3.072017  2.824990  ...  3.695417  5.302495      0\n",
              "GSM2233520      8.959608  2.996954  3.096580  ...  3.434747  5.653710      0\n",
              "GSM2233521      8.784124  2.511153  3.270180  ...  3.537020  5.510727      0\n",
              "GSM2233522      9.234508  2.706079  3.373257  ...  3.423336  4.979753      0\n",
              "GSM2233523      9.354675  2.673462  3.143588  ...  3.768826  5.062018      0\n",
              "\n",
              "[5 rows x 24438 columns]"
            ]
          },
          "metadata": {
            "tags": []
          },
          "execution_count": 27
        }
      ]
    },
    {
      "cell_type": "code",
      "metadata": {
        "id": "Cej7oSJay3WP",
        "colab_type": "code",
        "colab": {}
      },
      "source": [
        "X_Test = df_Test.drop(\"class\",1)\n",
        "y_Test = df_Test[\"class\"]"
      ],
      "execution_count": 0,
      "outputs": []
    },
    {
      "cell_type": "code",
      "metadata": {
        "id": "lbG_fJk9yW6n",
        "colab_type": "code",
        "colab": {}
      },
      "source": [
        "# min_max_scaler = preprocessing.MinMaxScaler()\n",
        "# x_scaled = min_max_scaler.fit_transform(X_Test)\n",
        "# df_Test = pd.DataFrame(x_scaled,index=[X_Test.index.values])\n",
        "\n",
        "# df_Test.columns =  X_Test.columns.values\n",
        "\n",
        "# df_Test[\"class\"] = y_Test.values"
      ],
      "execution_count": 0,
      "outputs": []
    },
    {
      "cell_type": "code",
      "metadata": {
        "id": "J3wj5urFzPGd",
        "colab_type": "code",
        "colab": {}
      },
      "source": [
        "# df_Test.head()"
      ],
      "execution_count": 0,
      "outputs": []
    },
    {
      "cell_type": "code",
      "metadata": {
        "id": "KpaLH2RQWo34",
        "colab_type": "code",
        "colab": {
          "base_uri": "https://localhost:8080/",
          "height": 34
        },
        "outputId": "8a7f2384-267b-4bf5-ccfe-26033197f005"
      },
      "source": [
        "print(df_Test.max().max(), df_Test.min().min())"
      ],
      "execution_count": 31,
      "outputs": [
        {
          "output_type": "stream",
          "text": [
            "14.333395900000001 -0.08874192\n"
          ],
          "name": "stdout"
        }
      ]
    },
    {
      "cell_type": "code",
      "metadata": {
        "id": "F7pHX6dZxNJn",
        "colab_type": "code",
        "colab": {
          "base_uri": "https://localhost:8080/",
          "height": 34
        },
        "outputId": "519262d2-a10b-4cbf-9f8e-0b66d669c2e5"
      },
      "source": [
        "print(df.max().max(), df.min().min())"
      ],
      "execution_count": 32,
      "outputs": [
        {
          "output_type": "stream",
          "text": [
            "12.97714691 0.0\n"
          ],
          "name": "stdout"
        }
      ]
    },
    {
      "cell_type": "markdown",
      "metadata": {
        "id": "lkxMBBmYWlAx",
        "colab_type": "text"
      },
      "source": [
        "Compare accuracies of selected + overlaped"
      ]
    },
    {
      "cell_type": "code",
      "metadata": {
        "id": "d7oY8AvIkjgi",
        "colab_type": "code",
        "colab": {
          "base_uri": "https://localhost:8080/",
          "height": 113
        },
        "outputId": "295e9c77-77d0-4aa5-f3fa-cecd7f04552a"
      },
      "source": [
        "df.head()"
      ],
      "execution_count": 75,
      "outputs": [
        {
          "output_type": "execute_result",
          "data": {
            "text/html": [
              "<div>\n",
              "<style scoped>\n",
              "    .dataframe tbody tr th:only-of-type {\n",
              "        vertical-align: middle;\n",
              "    }\n",
              "\n",
              "    .dataframe tbody tr th {\n",
              "        vertical-align: top;\n",
              "    }\n",
              "\n",
              "    .dataframe thead th {\n",
              "        text-align: right;\n",
              "    }\n",
              "</style>\n",
              "<table border=\"1\" class=\"dataframe\">\n",
              "  <thead>\n",
              "    <tr style=\"text-align: right;\">\n",
              "      <th></th>\n",
              "      <th>IL23R</th>\n",
              "      <th>IL26</th>\n",
              "      <th>IL27</th>\n",
              "      <th>IL27RA</th>\n",
              "      <th>IL2RA</th>\n",
              "      <th>IL3</th>\n",
              "      <th>IL32</th>\n",
              "      <th>IL33</th>\n",
              "      <th>IL34</th>\n",
              "      <th>IL4</th>\n",
              "      <th>IL4R</th>\n",
              "      <th>IL6</th>\n",
              "      <th>IL6R</th>\n",
              "      <th>IL6ST</th>\n",
              "      <th>IL7</th>\n",
              "      <th>IL9</th>\n",
              "      <th>ILF3</th>\n",
              "      <th>ILK</th>\n",
              "      <th>ILRUN</th>\n",
              "      <th>IMMP2L</th>\n",
              "      <th>IFNA16</th>\n",
              "      <th>IFNA21</th>\n",
              "      <th>IFNA5</th>\n",
              "      <th>IFNA8</th>\n",
              "      <th>IFNAR2</th>\n",
              "      <th>IFNG</th>\n",
              "      <th>IFNGR1</th>\n",
              "      <th>IFNGR2</th>\n",
              "      <th>IFNL3</th>\n",
              "      <th>IFNLR1</th>\n",
              "      <th>IFNW1</th>\n",
              "      <th>IFRD2</th>\n",
              "      <th>IFT57</th>\n",
              "      <th>IFT81</th>\n",
              "      <th>IGBP1</th>\n",
              "      <th>IGF1</th>\n",
              "      <th>IGF1R</th>\n",
              "      <th>IGF2</th>\n",
              "      <th>IGF2R</th>\n",
              "      <th>IGFBP1</th>\n",
              "      <th>...</th>\n",
              "      <th>YWHAG</th>\n",
              "      <th>YWHAH</th>\n",
              "      <th>YWHAQ</th>\n",
              "      <th>YWHAZ</th>\n",
              "      <th>YY1</th>\n",
              "      <th>ZACN</th>\n",
              "      <th>ZADH2</th>\n",
              "      <th>ZAP70</th>\n",
              "      <th>ZBED5-AS1</th>\n",
              "      <th>ZBP1</th>\n",
              "      <th>ZBTB39</th>\n",
              "      <th>ZBTB4</th>\n",
              "      <th>ZBTB40</th>\n",
              "      <th>ZBTB5</th>\n",
              "      <th>ZBTB9</th>\n",
              "      <th>ZC2HC1A</th>\n",
              "      <th>ZC3H10</th>\n",
              "      <th>ZC3H11A</th>\n",
              "      <th>ZRSR2</th>\n",
              "      <th>ZSCAN1</th>\n",
              "      <th>ZSCAN16</th>\n",
              "      <th>ZSCAN18</th>\n",
              "      <th>ZSCAN2</th>\n",
              "      <th>ZSCAN21</th>\n",
              "      <th>ZSCAN25</th>\n",
              "      <th>ZSCAN5A</th>\n",
              "      <th>ZSWIM8</th>\n",
              "      <th>ZW10</th>\n",
              "      <th>ZWINT</th>\n",
              "      <th>ZXDC</th>\n",
              "      <th>ZYX</th>\n",
              "      <th>ZZEF1</th>\n",
              "      <th>XYLT2</th>\n",
              "      <th>YAE1</th>\n",
              "      <th>YAP1</th>\n",
              "      <th>TOP1</th>\n",
              "      <th>TGFBI</th>\n",
              "      <th>TGFBR1</th>\n",
              "      <th>ZNF365</th>\n",
              "      <th>VDAC2</th>\n",
              "    </tr>\n",
              "  </thead>\n",
              "  <tbody>\n",
              "  </tbody>\n",
              "</table>\n",
              "<p>0 rows × 8233 columns</p>\n",
              "</div>"
            ],
            "text/plain": [
              "Empty DataFrame\n",
              "Columns: [IL23R, IL26, IL27, IL27RA, IL2RA, IL3, IL32, IL33, IL34, IL4, IL4R, IL6, IL6R, IL6ST, IL7, IL9, ILF3, ILK, ILRUN, IMMP2L, IFNA16, IFNA21, IFNA5, IFNA8, IFNAR2, IFNG, IFNGR1, IFNGR2, IFNL3, IFNLR1, IFNW1, IFRD2, IFT57, IFT81, IGBP1, IGF1, IGF1R, IGF2, IGF2R, IGFBP1, IGFBP2, IL15RA, IL16, IL17A, IL17RD, IL18, IL18R1, IL18RAP, IL19, IL1A, IL1B, IL1R1, IL1R2, IL1RAP, IL1RAPL2, IL1RL1, IL1RN, IL2, IL20, IL21, IL21-AS1, IL23A, KNOP1, KPNA1, KPNA2, KPNA4, KPNB1, KPTN, KRAS, KRBOX1, KRI1, KRIT1, KRT1, KRT18, KRT18P16, KRT18P24, KRT18P30, KRT18P45, KRT36, KRT8, KRT86, KRT9, KRTAP10-7, KRTCAP2, KRTCAP3, KSR2, KY, KYAT1, LCAT, LCE1D, LCK, LCMT1, LCN1, LCN2, LCORL, LCP2, LCT, LDB1, LDB3, LDHA, ...]\n",
              "Index: []\n",
              "\n",
              "[0 rows x 8233 columns]"
            ]
          },
          "metadata": {
            "tags": []
          },
          "execution_count": 75
        }
      ]
    },
    {
      "cell_type": "code",
      "metadata": {
        "id": "M7sNY3oJWtJd",
        "colab_type": "code",
        "colab": {
          "base_uri": "https://localhost:8080/",
          "height": 346
        },
        "outputId": "b0055cf9-df1e-4c19-dace-a2fba69012f4"
      },
      "source": [
        "diff_df = df[all_found + final_pca_col]\n",
        "\n",
        "X_train, X_test, y_train, y_test = train_test_split(diff_df, y, test_size=0.3, random_state=42) \n",
        "printTop3ClassificationResults(X_train, X_test, y_train, y_test) #same dataset\n",
        "\n",
        "getROC(X_train, X_test, y_train, y_test)\n",
        "plt.savefig('drive/My Drive/FYP/plots/roc9_and_overlapped.png', dpi=400)"
      ],
      "execution_count": 78,
      "outputs": [
        {
          "output_type": "stream",
          "text": [
            "\t\t\t\t\t\t Testing\t Training\n",
            "SVM + Gaussian kernel model accuracy(in %) \t: 97.96 \t 92.82\n",
            "SVM + linear kerne model accuracy(in %) \t: 93.88 \t 91.04\n",
            "Random forest model accuracy(in %) \t\t: 91.84 \t 91.04\n"
          ],
          "name": "stdout"
        },
        {
          "output_type": "display_data",
          "data": {
            "image/png": "[encoded data removed]",
            "text/plain": [
              "<Figure size 432x288 with 1 Axes>"
            ]
          },
          "metadata": {
            "tags": []
          }
        }
      ]
    },
    {
      "cell_type": "code",
      "metadata": {
        "id": "6co6YcgR4erL",
        "colab_type": "code",
        "colab": {}
      },
      "source": [
        "# X_train, X_test, y_train, y_test = train_test_split(X_Test[diff_df.columns], y_Test, test_size=0.3, random_state=42) \n",
        "# printTop3ClassificationResults(X_train, X_test, y_train, y_test) #same dataset"
      ],
      "execution_count": 0,
      "outputs": []
    },
    {
      "cell_type": "code",
      "metadata": {
        "id": "mGSx1m54Yxn3",
        "colab_type": "code",
        "colab": {}
      },
      "source": [
        "# saveFoundSymbols(diff_df, \"final_found_genes\")"
      ],
      "execution_count": 0,
      "outputs": []
    },
    {
      "cell_type": "markdown",
      "metadata": {
        "id": "3q-KXetJtqxY",
        "colab_type": "text"
      },
      "source": [
        "Additional compare auuracy of only each feature selection method find symbols\n"
      ]
    },
    {
      "cell_type": "code",
      "metadata": {
        "id": "ZsXfwl4mt4Tc",
        "colab_type": "code",
        "colab": {
          "base_uri": "https://localhost:8080/",
          "height": 84
        },
        "outputId": "3c250bf1-5a40-4edb-9b3d-86405dc58fce"
      },
      "source": [
        "diff_df = df[pca_col]\n",
        "\n",
        "X_train, X_test, y_train, y_test = train_test_split(diff_df, y, test_size=0.3, random_state=42) \n",
        "printTop3ClassificationResults(X_train, X_test, y_train, y_test) #same dataset"
      ],
      "execution_count": 38,
      "outputs": [
        {
          "output_type": "stream",
          "text": [
            "\t\t\t\t\t\t Testing\t Training\n",
            "SVM + Gaussian kernel model accuracy(in %) \t: 81.63 \t 88.38\n",
            "SVM + linear kerne model accuracy(in %) \t: 85.71 \t 80.37\n",
            "Random forest model accuracy(in %) \t\t: 75.51 \t 80.37\n"
          ],
          "name": "stdout"
        }
      ]
    },
    {
      "cell_type": "code",
      "metadata": {
        "id": "mx-4DMBduvVL",
        "colab_type": "code",
        "colab": {
          "base_uri": "https://localhost:8080/",
          "height": 84
        },
        "outputId": "ca38cf6f-fe4c-4275-9886-7fe3ce503517"
      },
      "source": [
        "diff_df = df[rf_col]\n",
        "\n",
        "X_train, X_test, y_train, y_test = train_test_split(diff_df, y, test_size=0.3, random_state=42) \n",
        "printTop3ClassificationResults(X_train, X_test, y_train, y_test) #same dataset"
      ],
      "execution_count": 39,
      "outputs": [
        {
          "output_type": "stream",
          "text": [
            "\t\t\t\t\t\t Testing\t Training\n",
            "SVM + Gaussian kernel model accuracy(in %) \t: 81.63 \t 85.68\n",
            "SVM + linear kerne model accuracy(in %) \t: 85.71 \t 84.78\n",
            "Random forest model accuracy(in %) \t\t: 81.63 \t 84.78\n"
          ],
          "name": "stdout"
        }
      ]
    },
    {
      "cell_type": "code",
      "metadata": {
        "id": "OfUDJRkTu0_e",
        "colab_type": "code",
        "colab": {
          "base_uri": "https://localhost:8080/",
          "height": 84
        },
        "outputId": "155cdbd9-203d-473a-b524-f0873d5b5ce4"
      },
      "source": [
        "diff_df = df[fi_col]\n",
        "\n",
        "X_train, X_test, y_train, y_test = train_test_split(diff_df, y, test_size=0.3, random_state=42) \n",
        "printTop3ClassificationResults(X_train, X_test, y_train, y_test) #same dataset"
      ],
      "execution_count": 40,
      "outputs": [
        {
          "output_type": "stream",
          "text": [
            "\t\t\t\t\t\t Testing\t Training\n",
            "SVM + Gaussian kernel model accuracy(in %) \t: 87.76 \t 86.56\n",
            "SVM + linear kerne model accuracy(in %) \t: 87.76 \t 82.95\n",
            "Random forest model accuracy(in %) \t\t: 79.59 \t 82.95\n"
          ],
          "name": "stdout"
        }
      ]
    },
    {
      "cell_type": "code",
      "metadata": {
        "id": "83DdVoaZvA4w",
        "colab_type": "code",
        "colab": {
          "base_uri": "https://localhost:8080/",
          "height": 84
        },
        "outputId": "b6a1f6f3-ed74-4ff6-e162-4153da05f9da"
      },
      "source": [
        "all_found = ['AC004951.6','MAFF', 'SLC39A12', 'PCYOX1L', 'CTD-3092A11.2' ,'RP11-271C24.3',\n",
        "             'PRO1804' ,'PRR34-AS1']\n",
        "diff_df = df[all_found]\n",
        "\n",
        "X_train, X_test, y_train, y_test = train_test_split(diff_df, y, test_size=0.3, random_state=42) \n",
        "printTop3ClassificationResults(X_train, X_test, y_train, y_test) #same dataset"
      ],
      "execution_count": 41,
      "outputs": [
        {
          "output_type": "stream",
          "text": [
            "\t\t\t\t\t\t Testing\t Training\n",
            "SVM + Gaussian kernel model accuracy(in %) \t: 93.88 \t 91.09\n",
            "SVM + linear kerne model accuracy(in %) \t: 93.88 \t 92.82\n",
            "Random forest model accuracy(in %) \t\t: 91.84 \t 92.82\n"
          ],
          "name": "stdout"
        }
      ]
    },
    {
      "cell_type": "code",
      "metadata": {
        "id": "TTcpnLgrv__R",
        "colab_type": "code",
        "colab": {
          "base_uri": "https://localhost:8080/",
          "height": 84
        },
        "outputId": "d6b8811f-a698-45d5-8650-2ba3a5e52d59"
      },
      "source": [
        "X_Test = df_Test[all_found]\n",
        "y_Test = df_Test[\"class\"]\n",
        "printTop3ClassificationResults(diff_df, X_Test, y, y_Test) #other dataset"
      ],
      "execution_count": 42,
      "outputs": [
        {
          "output_type": "stream",
          "text": [
            "\t\t\t\t\t\t Testing\t Training\n",
            "SVM + Gaussian kernel model accuracy(in %) \t: 48.39 \t 89.41\n",
            "SVM + linear kerne model accuracy(in %) \t: 50.0 \t 87.56\n",
            "Random forest model accuracy(in %) \t\t: 51.61 \t 87.56\n"
          ],
          "name": "stdout"
        }
      ]
    },
    {
      "cell_type": "code",
      "metadata": {
        "id": "nE2MnZMq3KMf",
        "colab_type": "code",
        "colab": {}
      },
      "source": [
        "# pca_col = ['STAT4', 'AMPH', 'ZIC2', 'TAC1', 'TMEM200A', 'SLIRP', 'SLC39A10', 'SPHKAP', 'CALB1', 'CDK7', 'AP2M1', 'PLK2', 'P2RY14', 'EMX2', 'SERPINF1', 'ARPC1A', 'PVALB', 'LOC101060510', 'VAMP7', 'LSM7', 'ATP1A3', 'PCP4', 'EXOC8', 'RIT2', 'BCAS1', 'PSMB4', 'LAMP5', 'PCDH8', 'NRSN1', 'CAPNS1', 'ALAS1', 'RAB33A', 'SLC16A14', 'HACL1']\n",
        "# rf_col = ['SLC12A7', 'CKMT1B', 'ATP6V1E1', 'ATP5B', 'LOC100272216', 'REEP1', 'CHRM1', 'COPG2IT1', 'TUBB3', 'PSMB3', 'MIF', 'CDK5', 'IMMT', 'PSMA5', 'PLSCR4', 'LRP4', 'BSCL2', 'ATP5C1']\n",
        "# fi_col = ['TARBP1', 'C2orf80', 'CCNH', 'RNF175', 'EPDR1', 'FAM107B', 'FPGT-TNNI3K', 'DHCR24', 'GLRB', 'TUBA4A', 'HMP19', 'SERPINI1', 'NRXN3', 'SUCLA2', 'SDR16C5', 'C12orf10', 'GRAMD3', 'RPH3A']\n",
        "# all_found = ['AC004951.6','MAFF', 'SLC39A12', 'PCYOX1L', 'CTD-3092A11.2' ,'RP11-271C24.3',\n",
        "#             'PRO1804' ,'PRR34-AS1']\n",
        "\n",
        "def getFeatureSummary(df):\n",
        "\n",
        "  list0 = [\"SVM + Gaussian kernel\", \"SVM + Linear kernel\", \"Random forest\"]\n",
        "\n",
        "  count = [len(pca_col),len(rf_col),len(fi_col),len(all_found)]\n",
        "\n",
        "  diff_df = df[pca_col]\n",
        "\n",
        "  X_train, X_test, y_train, y_test = train_test_split(diff_df, y, test_size=0.3, random_state=42) \n",
        "  list1 = getTop3ClassificationResults(X_train, X_test, y_train, y_test)[:,0] #same dataset\n",
        "\n",
        "  diff_df = df[rf_col]\n",
        "\n",
        "  X_train, X_test, y_train, y_test = train_test_split(diff_df, y, test_size=0.3, random_state=42) \n",
        "  list2 = getTop3ClassificationResults(X_train, X_test, y_train, y_test)[:,0] #same dataset\n",
        "\n",
        "  diff_df = df[fi_col]\n",
        "\n",
        "  X_train, X_test, y_train, y_test = train_test_split(diff_df, y, test_size=0.3, random_state=42) \n",
        "  list3 = getTop3ClassificationResults(X_train, X_test, y_train, y_test)[:,0] #same dataset\n",
        "\n",
        "  diff_df = df[all_found]\n",
        "\n",
        "  X_train, X_test, y_train, y_test = train_test_split(diff_df, y, test_size=0.3, random_state=42) \n",
        "  list4 = getTop3ClassificationResults(X_train, X_test, y_train, y_test)[:,0] #same dataset\n",
        "\n",
        "  rows = [\"classifier\",\"PCA\", \"Random Forest\", \"Extra Tree\", \"Overlap\"]\n",
        "\n",
        "  data = np.array([list0,list1, list2,list3, list4])\n",
        "  results = pd.DataFrame(data=data, index=rows).transpose()\n",
        "\n",
        "  results = results.set_index('classifier')\n",
        "\n",
        "  df_count = pd.DataFrame({'id':rows[1:5], 'val':count})\n",
        "\n",
        "  return results, df_count"
      ],
      "execution_count": 0,
      "outputs": []
    },
    {
      "cell_type": "code",
      "metadata": {
        "id": "x-5i15EB5Qno",
        "colab_type": "code",
        "colab": {}
      },
      "source": [
        "results, count = getFeatureSummary(df)\n",
        "results = results.astype(float)"
      ],
      "execution_count": 0,
      "outputs": []
    },
    {
      "cell_type": "code",
      "metadata": {
        "id": "JMEvk_u99D9m",
        "colab_type": "code",
        "colab": {
          "base_uri": "https://localhost:8080/",
          "height": 269
        },
        "outputId": "285276a9-5c63-47d3-8246-38b3aee502bc"
      },
      "source": [
        "results.T.plot.bar(rot=0)\n",
        "axes = plt.gca()\n",
        "axes.set_ylim([75,100])\n",
        "axes.set_ylabel(\"Accuracy\")\n",
        "plt.savefig('drive/My Drive/FYP/plots/with_overlap.png', dpi=400)"
      ],
      "execution_count": 45,
      "outputs": [
        {
          "output_type": "display_data",
          "data": {
            "image/png": "[encoded data removed]",
            "text/plain": [
              "<Figure size 432x288 with 1 Axes>"
            ]
          },
          "metadata": {
            "tags": []
          }
        }
      ]
    },
    {
      "cell_type": "code",
      "metadata": {
        "id": "_fGKfN9SA9Xb",
        "colab_type": "code",
        "colab": {
          "base_uri": "https://localhost:8080/",
          "height": 283
        },
        "outputId": "b4c3729a-d22a-4e21-d0f2-e0943dd24ab6"
      },
      "source": [
        "count.plot.bar(x='id', y='val', rot=0,color=(0.2, 0.4, 0.6, 0.6))\n",
        "axes = plt.gca()\n",
        "axes.set_ylim([5,40])\n",
        "axes.set_ylabel(\"No of features\")\n",
        "axes.get_legend().remove()\n",
        "plt.savefig('drive/My Drive/FYP/plots/with_overlap_no.png', dpi=400)"
      ],
      "execution_count": 46,
      "outputs": [
        {
          "output_type": "display_data",
          "data": {
            "image/png": "[encoded data removed]",
            "text/plain": [
              "<Figure size 432x288 with 1 Axes>"
            ]
          },
          "metadata": {
            "tags": []
          }
        }
      ]
    },
    {
      "cell_type": "markdown",
      "metadata": {
        "id": "yHH-2XWfBcSF",
        "colab_type": "text"
      },
      "source": [
        "Compare correlation of them"
      ]
    },
    {
      "cell_type": "code",
      "metadata": {
        "id": "4jXOK1vmBh06",
        "colab_type": "code",
        "colab": {
          "base_uri": "https://localhost:8080/",
          "height": 351
        },
        "outputId": "7376ca4c-acb1-48c4-a8b3-e33ada5111d0"
      },
      "source": [
        "fig, (ax1, ax2, ax3) = plt.subplots(1, 3)\n",
        "\n",
        "cmp_corr_pca = df[pca_col].corr()\n",
        "sns.heatmap(cmp_corr_pca, cmap=\"RdYlGn\", ax=ax1, cbar=False)\n",
        "ax1.set_title(\"PCA\")\n",
        "\n",
        "cmp_corr_fi = df[fi_col].corr()\n",
        "sns.heatmap(cmp_corr_fi, cmap=\"RdYlGn\", ax=ax2, cbar=False)\n",
        "ax2.set_title(\"Extra Tree\")\n",
        "\n",
        "cmp_corr_rf = df[rf_col].corr()\n",
        "sns.heatmap(cmp_corr_rf, cmap=\"RdYlGn\", ax=ax3)\n",
        "ax3.set_title(\"Random Forest\")\n",
        "\n",
        "fig.subplots_adjust(wspace = 0.5)\n",
        "fig.set_figwidth(15)"
      ],
      "execution_count": 47,
      "outputs": [
        {
          "output_type": "display_data",
          "data": {
            "image/png": "[encoded data removed]",
            "text/plain": [
              "<Figure size 1080x288 with 4 Axes>"
            ]
          },
          "metadata": {
            "tags": []
          }
        }
      ]
    },
    {
      "cell_type": "code",
      "metadata": {
        "id": "n8exxeiSHbXK",
        "colab_type": "code",
        "colab": {}
      },
      "source": [
        "# fig.savefig('drive/My Drive/FYP/plots/corr_all3.png', dpi=400)"
      ],
      "execution_count": 0,
      "outputs": []
    },
    {
      "cell_type": "code",
      "metadata": {
        "id": "ZTQTZFG0FM-y",
        "colab_type": "code",
        "colab": {}
      },
      "source": [
        "def getHighlyCorrelatedFeatures(corr, i):\n",
        "  # Select upper triangle of correlation matrix\n",
        "  upper = corr.where(np.triu(np.ones(corr.shape), k=1).astype(np.bool))\n",
        "\n",
        "  # Find index of feature columns with correlation greater than 0.95\n",
        "  to_drop = [column for column in upper.columns if any(upper[column] > i)]\n",
        "\n",
        "  return to_drop"
      ],
      "execution_count": 0,
      "outputs": []
    },
    {
      "cell_type": "code",
      "metadata": {
        "id": "0VX0UNOXF_-8",
        "colab_type": "code",
        "colab": {
          "base_uri": "https://localhost:8080/",
          "height": 34
        },
        "outputId": "e6956055-c196-424f-fc7b-c0ba71351d39"
      },
      "source": [
        "getHighlyCorrelatedFeatures(cmp_corr_fi,0.85)"
      ],
      "execution_count": 50,
      "outputs": [
        {
          "output_type": "execute_result",
          "data": {
            "text/plain": [
              "['EPDR1', 'GLRB', 'TUBA4A', 'HMP19', 'SERPINI1', 'NRXN3', 'SUCLA2']"
            ]
          },
          "metadata": {
            "tags": []
          },
          "execution_count": 50
        }
      ]
    },
    {
      "cell_type": "code",
      "metadata": {
        "id": "DniNyVo2FXQy",
        "colab_type": "code",
        "colab": {}
      },
      "source": [
        "def compareCorrelatedFeatures(cmp_corr_pca, cmp_corr_fi,cmp_corr_rf):\n",
        "  lists0 = []\n",
        "  lists1 = []\n",
        "  lists2 = []\n",
        "  lists3 = []\n",
        "\n",
        "  i = 0.95\n",
        "\n",
        "  while i >= 0.8:\n",
        "\n",
        "    lists0.append(i)\n",
        "    lists1.append(len(getHighlyCorrelatedFeatures(cmp_corr_pca,i))*100/34)\n",
        "    lists2.append(len(getHighlyCorrelatedFeatures(cmp_corr_rf,i))*100/18)\n",
        "    lists3.append(len(getHighlyCorrelatedFeatures(cmp_corr_fi,i))*100/18)\n",
        "\n",
        "    i = i - 0.005\n",
        "\n",
        "  rows = [\"Correlation value\", \"PCA\", \"Random Forest\", \"Extra Tree\"]\n",
        "\n",
        "  data = np.array([lists0, lists1, lists2,lists3])\n",
        "  results = pd.DataFrame(data=data, index=rows).transpose()\n",
        "  results = results.set_index('Correlation value')\n",
        "\n",
        "  return results"
      ],
      "execution_count": 0,
      "outputs": []
    },
    {
      "cell_type": "code",
      "metadata": {
        "id": "WVEz-_d_LgLu",
        "colab_type": "code",
        "colab": {
          "base_uri": "https://localhost:8080/",
          "height": 312
        },
        "outputId": "a9262ae5-7c0f-4596-937d-ad5f5740f51b"
      },
      "source": [
        "results = compareCorrelatedFeatures(cmp_corr_pca, cmp_corr_fi,cmp_corr_rf)\n",
        "g = results.plot.line()\n",
        "g.set(xlim=(0.95,0.80))\n",
        "g.set_ylabel(\"Correlated Features %\")\n",
        "g.set_title(\"Correlated Features vs correlation value\")"
      ],
      "execution_count": 52,
      "outputs": [
        {
          "output_type": "execute_result",
          "data": {
            "text/plain": [
              "Text(0.5, 1.0, 'Correlated Features vs correlation value')"
            ]
          },
          "metadata": {
            "tags": []
          },
          "execution_count": 52
        },
        {
          "output_type": "display_data",
          "data": {
            "image/png": "[encoded data removed]",
            "text/plain": [
              "<Figure size 432x288 with 1 Axes>"
            ]
          },
          "metadata": {
            "tags": []
          }
        }
      ]
    },
    {
      "cell_type": "code",
      "metadata": {
        "id": "OeQMMpgLH4nz",
        "colab_type": "code",
        "colab": {}
      },
      "source": [
        "fig = g.get_figure()\n",
        "fig.savefig('drive/My Drive/FYP/plots/corr_featVvalue.png', dpi=400)"
      ],
      "execution_count": 0,
      "outputs": []
    },
    {
      "cell_type": "code",
      "metadata": {
        "id": "-7hKDQhxs3I5",
        "colab_type": "code",
        "colab": {}
      },
      "source": [
        "corr_200 = df.corr()"
      ],
      "execution_count": 0,
      "outputs": []
    },
    {
      "cell_type": "code",
      "metadata": {
        "id": "5mwKA4N0upyI",
        "colab_type": "code",
        "colab": {}
      },
      "source": [
        "def getSimiliarFeatures(df, arr, ran):\n",
        "  result = []\n",
        "  for e in arr:\n",
        "    for i in range(len(df)):\n",
        "      if abs(df[e][i]) > ran:\n",
        "        # print (corr_200[\"AC004951.6\"].index[i])\n",
        "        result.append(df[e].index[i])\n",
        "\n",
        "  return result"
      ],
      "execution_count": 0,
      "outputs": []
    },
    {
      "cell_type": "code",
      "metadata": {
        "id": "pu-2Z6zV7gOU",
        "colab_type": "code",
        "colab": {
          "base_uri": "https://localhost:8080/",
          "height": 34
        },
        "outputId": "1b554185-de2a-4b6d-963e-196a3fe62a92"
      },
      "source": [
        "sim_gene = getSimiliarFeatures(corr_200,['ATP6V1E1' ,'MDH1' ,'COPS5'], 0.95)\n",
        "sim_df = pd.DataFrame(data=sim_gene, columns=[\"probes.Symbol\"])\n",
        "sim_df = pd.DataFrame(data = sim_df['probes.Symbol'].unique(), columns=['probes.Symbol'])\n",
        "sim_df.to_pickle(\"drive/My Drive/FYP/Found genes/\" + \"top8Similiar_brain\" +\".pkl\")\n",
        "sim_df.shape"
      ],
      "execution_count": 56,
      "outputs": [
        {
          "output_type": "execute_result",
          "data": {
            "text/plain": [
              "(3, 1)"
            ]
          },
          "metadata": {
            "tags": []
          },
          "execution_count": 56
        }
      ]
    },
    {
      "cell_type": "markdown",
      "metadata": {
        "id": "ezyqtJu9vf6_",
        "colab_type": "text"
      },
      "source": [
        "Similiar feature plot"
      ]
    },
    {
      "cell_type": "code",
      "metadata": {
        "id": "lmz9R6wByvuh",
        "colab_type": "code",
        "colab": {
          "base_uri": "https://localhost:8080/",
          "height": 34
        },
        "outputId": "ddc5c019-d533-4076-fa7e-bbb73526588c"
      },
      "source": [
        "sim_gene = getSimiliarFeatures(corr_200,all_found + final_pca_col,0.75)\n",
        "# print(sim_gene)\n",
        "sim_df = pd.DataFrame(data=sim_gene, columns=[\"probes.Symbol\"])\n",
        "sim_df = pd.DataFrame(data = sim_df['probes.Symbol'].unique(), columns=['probes.Symbol'])\n",
        "# sim_df.to_pickle(\"drive/My Drive/FYP/Found genes/\" + \"similiar_final_found\" +\".pkl\")\n",
        "sim_df.shape"
      ],
      "execution_count": 57,
      "outputs": [
        {
          "output_type": "execute_result",
          "data": {
            "text/plain": [
              "(127, 1)"
            ]
          },
          "metadata": {
            "tags": []
          },
          "execution_count": 57
        }
      ]
    },
    {
      "cell_type": "code",
      "metadata": {
        "id": "2b-phVSpvieV",
        "colab_type": "code",
        "colab": {
          "base_uri": "https://localhost:8080/",
          "height": 67
        },
        "outputId": "3105afd2-8638-414a-cfe7-e2a042b7a8a7"
      },
      "source": [
        "df = pd.read_csv(\"drive/My Drive/FYP/dataset/ADRelatedGene.txt\", delimiter=\", \")\n",
        "df_AD = pd.DataFrame()\n",
        "df_AD[\"probes.Symbol\"] = df.columns\n",
        "\n",
        "df_AD[\"probes.Symbol\"] = df_AD['probes.Symbol'].str.replace(\" \",\"\")\n",
        "\n",
        "#df_AD.head()\n",
        "print(len(df_AD[\"probes.Symbol\"].values))\n",
        "df_AD[\"probes.Symbol\"].values"
      ],
      "execution_count": 58,
      "outputs": [
        {
          "output_type": "stream",
          "text": [
            "8233\n"
          ],
          "name": "stdout"
        },
        {
          "output_type": "execute_result",
          "data": {
            "text/plain": [
              "array(['IL23R', 'IL26', 'IL27', ..., 'TGFBR1', 'ZNF365', 'VDAC2'],\n",
              "      dtype=object)"
            ]
          },
          "metadata": {
            "tags": []
          },
          "execution_count": 58
        }
      ]
    },
    {
      "cell_type": "code",
      "metadata": {
        "id": "KxufkaENvzsI",
        "colab_type": "code",
        "colab": {
          "base_uri": "https://localhost:8080/",
          "height": 168
        },
        "outputId": "1f815082-b992-4ca6-8d0f-45ca6eadfc8f"
      },
      "source": [
        "result = pd.merge(df_AD, sim_df, on='probes.Symbol', how='inner')\n",
        "arr = result[\"probes.Symbol\"].values\n",
        "print(len(arr))\n",
        "print(arr)"
      ],
      "execution_count": 59,
      "outputs": [
        {
          "output_type": "stream",
          "text": [
            "64\n",
            "['MKKS' 'NAP1L5' 'HSP90AB1' 'IMMT' 'MAP2K1' 'MAP2K4' 'MAL2' 'MDH1' 'LRP4'\n",
            " 'GOT1' 'GLOD4' 'GLRB' 'GPI' 'CDK5' 'CHGB' 'EPB41L3' 'EPDR1' 'CALY'\n",
            " 'CACNA2D3' 'AMPH' 'ATP1A1' 'ATP6V0B' 'ATP6V1E1' 'FHL2' 'GABRG2' 'COPS5'\n",
            " 'NPTX2' 'PLK2' 'PSMD8' 'SCG2' 'SERTM1' 'SLC35B1' 'SLC39A12' 'SMYD3'\n",
            " 'SNCA' 'SLC9A6' 'SST' 'STMN2' 'SGIP1' 'NDRG4' 'NEAT1' 'NECAP1' 'NIT2'\n",
            " 'NME1' 'PSMA5' 'PSMB4' 'NRXN3' 'MT1M' 'NRN1' 'NEFL' 'PCDH8' 'APOO' 'CCK'\n",
            " 'DHCR24' 'TUBA4A' 'TUBB3' 'TUBB4B' 'TM2D2' 'TM9SF2' 'VSNL1' 'TAF9'\n",
            " 'TARBP1' 'TRMT10C' 'ZDHHC23']\n"
          ],
          "name": "stdout"
        }
      ]
    },
    {
      "cell_type": "code",
      "metadata": {
        "id": "qOVYrpEKw_hn",
        "colab_type": "code",
        "colab": {
          "base_uri": "https://localhost:8080/",
          "height": 34
        },
        "outputId": "e64013a3-d5eb-49e5-add0-b7ebe12332fa"
      },
      "source": [
        "sim_df.shape[0]"
      ],
      "execution_count": 60,
      "outputs": [
        {
          "output_type": "execute_result",
          "data": {
            "text/plain": [
              "127"
            ]
          },
          "metadata": {
            "tags": []
          },
          "execution_count": 60
        }
      ]
    },
    {
      "cell_type": "code",
      "metadata": {
        "id": "TI8bbWQwwRsa",
        "colab_type": "code",
        "colab": {}
      },
      "source": [
        "def getSimiliarAndAD():\n",
        "  i = 0.95\n",
        "\n",
        "  lists0 = []\n",
        "  lists1 = []\n",
        "  lists2 = []\n",
        "\n",
        "  while i >= 0.8:\n",
        "\n",
        "    sim_gene = getSimiliarFeatures(corr_200,all_found + final_pca_col,i)\n",
        "\n",
        "    sim_df = pd.DataFrame(data=sim_gene, columns=[\"probes.Symbol\"])\n",
        "    sim_df = pd.DataFrame(data = sim_df['probes.Symbol'].unique(), columns=['probes.Symbol'])\n",
        "\n",
        "    result = pd.merge(df_AD, sim_df, on='probes.Symbol', how='inner')\n",
        "    arr = result[\"probes.Symbol\"].values\n",
        "\n",
        "    lists0.append(i)\n",
        "    lists1.append(sim_df.shape[0])\n",
        "    lists2.append(len(arr))\n",
        "\n",
        "    i = i - 0.001\n",
        "\n",
        "  rows = [\"Correlation coefficient\", \"Correlated gene\", \"Gene card\"]\n",
        "\n",
        "  data = np.array([lists0, lists1, lists2])\n",
        "  results = pd.DataFrame(data=data, index=rows).transpose()\n",
        "\n",
        "  results = results.set_index('Correlation coefficient')\n",
        "\n",
        "  return results"
      ],
      "execution_count": 0,
      "outputs": []
    },
    {
      "cell_type": "code",
      "metadata": {
        "id": "0jJt-HLHyE7R",
        "colab_type": "code",
        "colab": {}
      },
      "source": [
        "sim_summary_df = getSimiliarAndAD()"
      ],
      "execution_count": 0,
      "outputs": []
    },
    {
      "cell_type": "code",
      "metadata": {
        "id": "7ozTeS0gyuAm",
        "colab_type": "code",
        "colab": {
          "base_uri": "https://localhost:8080/",
          "height": 225
        },
        "outputId": "3aadffba-ddc7-42e2-ed0e-945031796e12"
      },
      "source": [
        "sim_summary_df.head()"
      ],
      "execution_count": 63,
      "outputs": [
        {
          "output_type": "execute_result",
          "data": {
            "text/html": [
              "<div>\n",
              "<style scoped>\n",
              "    .dataframe tbody tr th:only-of-type {\n",
              "        vertical-align: middle;\n",
              "    }\n",
              "\n",
              "    .dataframe tbody tr th {\n",
              "        vertical-align: top;\n",
              "    }\n",
              "\n",
              "    .dataframe thead th {\n",
              "        text-align: right;\n",
              "    }\n",
              "</style>\n",
              "<table border=\"1\" class=\"dataframe\">\n",
              "  <thead>\n",
              "    <tr style=\"text-align: right;\">\n",
              "      <th></th>\n",
              "      <th>Correlated gene</th>\n",
              "      <th>Gene card</th>\n",
              "    </tr>\n",
              "    <tr>\n",
              "      <th>Correlation coefficient</th>\n",
              "      <th></th>\n",
              "      <th></th>\n",
              "    </tr>\n",
              "  </thead>\n",
              "  <tbody>\n",
              "    <tr>\n",
              "      <th>0.950</th>\n",
              "      <td>15.0</td>\n",
              "      <td>4.0</td>\n",
              "    </tr>\n",
              "    <tr>\n",
              "      <th>0.949</th>\n",
              "      <td>15.0</td>\n",
              "      <td>4.0</td>\n",
              "    </tr>\n",
              "    <tr>\n",
              "      <th>0.948</th>\n",
              "      <td>15.0</td>\n",
              "      <td>4.0</td>\n",
              "    </tr>\n",
              "    <tr>\n",
              "      <th>0.947</th>\n",
              "      <td>15.0</td>\n",
              "      <td>4.0</td>\n",
              "    </tr>\n",
              "    <tr>\n",
              "      <th>0.946</th>\n",
              "      <td>15.0</td>\n",
              "      <td>4.0</td>\n",
              "    </tr>\n",
              "  </tbody>\n",
              "</table>\n",
              "</div>"
            ],
            "text/plain": [
              "                         Correlated gene  Gene card\n",
              "Correlation coefficient                            \n",
              "0.950                               15.0        4.0\n",
              "0.949                               15.0        4.0\n",
              "0.948                               15.0        4.0\n",
              "0.947                               15.0        4.0\n",
              "0.946                               15.0        4.0"
            ]
          },
          "metadata": {
            "tags": []
          },
          "execution_count": 63
        }
      ]
    },
    {
      "cell_type": "code",
      "metadata": {
        "id": "pAPbvV1Tz26J",
        "colab_type": "code",
        "colab": {
          "base_uri": "https://localhost:8080/",
          "height": 279
        },
        "outputId": "3e18819f-bc86-46aa-b096-684740d354a5"
      },
      "source": [
        "g = sim_summary_df.plot.line()\n",
        "g.set(xlim=(0.95,0.85))\n",
        "g.set_ylabel(\"No of genes\")\n",
        "\n",
        "fig = g.get_figure()\n",
        "fig.savefig('drive/My Drive/FYP/plots/final_iden_geneCard.png', dpi=400)"
      ],
      "execution_count": 64,
      "outputs": [
        {
          "output_type": "display_data",
          "data": {
            "image/png": "[encoded data removed]",
            "text/plain": [
              "<Figure size 432x288 with 1 Axes>"
            ]
          },
          "metadata": {
            "tags": []
          }
        }
      ]
    }
  ]
}